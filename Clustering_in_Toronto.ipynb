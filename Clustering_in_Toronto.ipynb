{
  "nbformat": 4,
  "nbformat_minor": 0,
  "metadata": {
    "colab": {
      "name": "Clustering in Toronto.ipynb",
      "provenance": [],
      "collapsed_sections": [],
      "authorship_tag": "ABX9TyMeWCo3b451N0d0OuVLosMg",
      "include_colab_link": true
    },
    "kernelspec": {
      "name": "python3",
      "display_name": "Python 3"
    }
  },
  "cells": [
    {
      "cell_type": "markdown",
      "metadata": {
        "id": "view-in-github",
        "colab_type": "text"
      },
      "source": [
        "<a href=\"https://colab.research.google.com/github/Dehyzz/IBM_Capstone/blob/master/Clustering_in_Toronto.ipynb\" target=\"_parent\"><img src=\"https://colab.research.google.com/assets/colab-badge.svg\" alt=\"Open In Colab\"/></a>"
      ]
    },
    {
      "cell_type": "markdown",
      "metadata": {
        "id": "v-s0tS_6uz_K",
        "colab_type": "text"
      },
      "source": [
        "## `Segmenting and Clustering Neighbourhoods in Toronto`\n",
        "\n",
        "---\n",
        "\n"
      ]
    },
    {
      "cell_type": "code",
      "metadata": {
        "id": "TzE_31f2xx-W",
        "colab_type": "code",
        "outputId": "e0b28a8c-dfcc-4ec2-db48-c64c4080619e",
        "colab": {
          "base_uri": "https://localhost:8080/",
          "height": 34
        }
      },
      "source": [
        "# Reading Wiki page to Pandas df\n",
        "\n",
        "import pandas as pd\n",
        "url = 'https://en.wikipedia.org/wiki/List_of_postal_codes_of_Canada:_M'\n",
        "posts = pd.read_html(url)\n",
        "# print(posts[0].head(10))\n",
        "df = pd.DataFrame(posts[0])\n",
        "df = df[~df.Borough.str.contains(\"Not assigned\")]\n",
        "# df = df.groupby('Postal Code')['Neighborhood'].apply(', '.join)\n",
        "# df = df.groupby('Postal Code')['Neighborhood'].agg(', '.join)\n",
        "df = pd.DataFrame(df).reset_index(drop=True)\n",
        "df.where(df['Neighborhood'] != 'Not assigned', df['Borough'], axis=0, inplace=True)\n",
        "\n",
        "# df.head(12)\n",
        "df.shape"
      ],
      "execution_count": 151,
      "outputs": [
        {
          "output_type": "execute_result",
          "data": {
            "text/plain": [
              "(103, 3)"
            ]
          },
          "metadata": {
            "tags": []
          },
          "execution_count": 151
        }
      ]
    },
    {
      "cell_type": "code",
      "metadata": {
        "colab_type": "code",
        "id": "3VcLtfYAs18n",
        "colab": {}
      },
      "source": [
        ""
      ],
      "execution_count": 0,
      "outputs": []
    },
    {
      "cell_type": "code",
      "metadata": {
        "id": "O6SGCrgSzcjl",
        "colab_type": "code",
        "colab": {}
      },
      "source": [
        ""
      ],
      "execution_count": 0,
      "outputs": []
    },
    {
      "cell_type": "code",
      "metadata": {
        "id": "GzGU9CF3qSc0",
        "colab_type": "code",
        "colab": {}
      },
      "source": [
        ""
      ],
      "execution_count": 0,
      "outputs": []
    }
  ]
}