{
  "nbformat": 4,
  "nbformat_minor": 0,
  "metadata": {
    "kernelspec": {
      "display_name": "Python 3",
      "language": "python",
      "name": "python3"
    },
    "language_info": {
      "codemirror_mode": {
        "name": "ipython",
        "version": 3
      },
      "file_extension": ".py",
      "mimetype": "text/x-python",
      "name": "python",
      "nbconvert_exporter": "python",
      "pygments_lexer": "ipython3",
      "version": "3.6.5"
    },
    "colab": {
      "name": "Foursquare-API.ipynb",
      "provenance": [],
      "include_colab_link": true
    }
  },
  "cells": [
    {
      "cell_type": "markdown",
      "metadata": {
        "id": "view-in-github",
        "colab_type": "text"
      },
      "source": [
        "<a href=\"https://colab.research.google.com/github/Dehyzz/IBM_Capstone/blob/master/Foursquare_API.ipynb\" target=\"_parent\"><img src=\"https://colab.research.google.com/assets/colab-badge.svg\" alt=\"Open In Colab\"/></a>"
      ]
    },
    {
      "cell_type": "markdown",
      "metadata": {
        "button": false,
        "deletable": true,
        "new_sheet": false,
        "run_control": {
          "read_only": false
        },
        "id": "7I4xVfgnWHrS",
        "colab_type": "text"
      },
      "source": [
        "<a href=\"https://cognitiveclass.ai\"><img src = \"https://ibm.box.com/shared/static/9gegpsmnsoo25ikkbl4qzlvlyjbgxs5x.png\" width = 400> </a>\n",
        "\n",
        "<h1 align=center><font size = 5>Learning FourSquare API with Python</font></h1>"
      ]
    },
    {
      "cell_type": "markdown",
      "metadata": {
        "button": false,
        "deletable": true,
        "new_sheet": false,
        "run_control": {
          "read_only": false
        },
        "id": "S7Lt_o6wWHrT",
        "colab_type": "text"
      },
      "source": [
        "   "
      ]
    },
    {
      "cell_type": "markdown",
      "metadata": {
        "button": false,
        "deletable": true,
        "new_sheet": false,
        "run_control": {
          "read_only": false
        },
        "id": "EQ7PAG3IWHrU",
        "colab_type": "text"
      },
      "source": [
        "## Introduction\n",
        "\n",
        "In this lab, you will learn in details how to make calls to the Foursquare API for different purposes. You will learn how to construct a URL to send a request to the API to search for a specific type of venues, to explore a particular venue, to explore a Foursquare user, to explore a geographical location, and to get trending venues around a location. Also, you will learn how to use the visualization library, Folium, to visualize the results."
      ]
    },
    {
      "cell_type": "markdown",
      "metadata": {
        "button": false,
        "deletable": true,
        "new_sheet": false,
        "run_control": {
          "read_only": false
        },
        "id": "m7Db-T0_WHrU",
        "colab_type": "text"
      },
      "source": [
        "## Table of Contents\n",
        "\n",
        "1. <a href=\"#item1\">Foursquare API Search Function</a>\n",
        "2. <a href=\"#item2\">Explore a Given Venue</a>  \n",
        "3. <a href=\"#item3\">Explore a User</a>  \n",
        "4. <a href=\"#item4\">Foursquare API Explore Function</a>  \n",
        "5. <a href=\"#item5\">Get Trending Venues</a>  "
      ]
    },
    {
      "cell_type": "markdown",
      "metadata": {
        "button": false,
        "deletable": true,
        "new_sheet": false,
        "run_control": {
          "read_only": false
        },
        "id": "vysUMZOtWHrV",
        "colab_type": "text"
      },
      "source": [
        "### Import necessary Libraries"
      ]
    },
    {
      "cell_type": "code",
      "metadata": {
        "button": false,
        "deletable": true,
        "new_sheet": false,
        "run_control": {
          "read_only": false
        },
        "id": "rOY8cU4KWHrV",
        "colab_type": "code",
        "colab": {
          "base_uri": "https://localhost:8080/",
          "height": 51
        },
        "outputId": "6536e58e-d34a-4f55-eb1e-e76b304a7c80"
      },
      "source": [
        "import requests # library to handle requests\n",
        "import pandas as pd # library for data analsysis\n",
        "import numpy as np # library to handle data in a vectorized manner\n",
        "import random # library for random number generation\n",
        "\n",
        "#!conda install -c conda-forge geopy --yes \n",
        "from geopy.geocoders import Nominatim # module to convert an address into latitude and longitude values\n",
        "\n",
        "# libraries for displaying images\n",
        "from IPython.display import Image \n",
        "from IPython.core.display import HTML \n",
        "    \n",
        "# tranforming json file into a pandas dataframe library\n",
        "from pandas.io.json import json_normalize\n",
        "#!conda install -c conda-forge folium=0.5.0 --yes\n",
        "import folium # plotting library\n",
        "\n",
        "print('Folium installed')\n",
        "print('Libraries imported.')"
      ],
      "execution_count": 3,
      "outputs": [
        {
          "output_type": "stream",
          "text": [
            "Folium installed\n",
            "Libraries imported.\n"
          ],
          "name": "stdout"
        }
      ]
    },
    {
      "cell_type": "markdown",
      "metadata": {
        "button": false,
        "deletable": true,
        "new_sheet": false,
        "run_control": {
          "read_only": false
        },
        "id": "Zr1-NytAWHrZ",
        "colab_type": "text"
      },
      "source": [
        "### Define Foursquare Credentials and Version"
      ]
    },
    {
      "cell_type": "markdown",
      "metadata": {
        "button": false,
        "deletable": true,
        "new_sheet": false,
        "run_control": {
          "read_only": false
        },
        "id": "C7vnCENGWHrZ",
        "colab_type": "text"
      },
      "source": [
        "##### Make sure that you have created a Foursquare developer account and have your credentials handy"
      ]
    },
    {
      "cell_type": "code",
      "metadata": {
        "button": false,
        "deletable": true,
        "new_sheet": false,
        "run_control": {
          "read_only": false
        },
        "id": "pufBIRM4WHra",
        "colab_type": "code",
        "colab": {
          "base_uri": "https://localhost:8080/",
          "height": 68
        },
        "outputId": "a7e802a1-3f6e-4738-93c2-d52fa283fd18"
      },
      "source": [
        "CLIENT_ID = '1Z1J1FGK4R5WD2RSEUC3P011PLPLUP02NJGM2W1OF3UYXJ2M' # your Foursquare ID\n",
        "CLIENT_SECRET = 'R2VWWYKS1HOSJMD0X2NVS3XTJBIKCJIZ2DEL2VWANBHBX3PN' # your Foursquare Secret\n",
        "VERSION = '20180604'\n",
        "LIMIT = 30\n",
        "print('Your credentails:')\n",
        "print('CLIENT_ID: ' + CLIENT_ID)\n",
        "print('CLIENT_SECRET:' + CLIENT_SECRET)"
      ],
      "execution_count": 5,
      "outputs": [
        {
          "output_type": "stream",
          "text": [
            "Your credentails:\n",
            "CLIENT_ID: 1Z1J1FGK4R5WD2RSEUC3P011PLPLUP02NJGM2W1OF3UYXJ2M\n",
            "CLIENT_SECRET:R2VWWYKS1HOSJMD0X2NVS3XTJBIKCJIZ2DEL2VWANBHBX3PN\n"
          ],
          "name": "stdout"
        }
      ]
    },
    {
      "cell_type": "markdown",
      "metadata": {
        "button": false,
        "deletable": true,
        "new_sheet": false,
        "run_control": {
          "read_only": false
        },
        "id": "IH0-7zqpWHrc",
        "colab_type": "text"
      },
      "source": [
        "  "
      ]
    },
    {
      "cell_type": "markdown",
      "metadata": {
        "button": false,
        "deletable": true,
        "new_sheet": false,
        "run_control": {
          "read_only": false
        },
        "id": "8ZmDAl39WHrd",
        "colab_type": "text"
      },
      "source": [
        "#### Let's again assume that you are staying at the Conrad hotel. So let's start by converting the Contrad Hotel's address to its latitude and longitude coordinates."
      ]
    },
    {
      "cell_type": "markdown",
      "metadata": {
        "id": "gU2_Mo5CWHrd",
        "colab_type": "text"
      },
      "source": [
        "In order to define an instance of the geocoder, we need to define a user_agent. We will name our agent <em>foursquare_agent</em>, as shown below."
      ]
    },
    {
      "cell_type": "code",
      "metadata": {
        "button": false,
        "deletable": true,
        "new_sheet": false,
        "run_control": {
          "read_only": false
        },
        "id": "KjuXKrN8WHre",
        "colab_type": "code",
        "colab": {
          "base_uri": "https://localhost:8080/",
          "height": 34
        },
        "outputId": "a50d9dbc-adeb-41a3-8c64-8a876b955a42"
      },
      "source": [
        "address = '102 North End Ave, New York, NY'\n",
        "\n",
        "geolocator = Nominatim(user_agent=\"foursquare_agent\")\n",
        "location = geolocator.geocode(address)\n",
        "latitude = location.latitude\n",
        "longitude = location.longitude\n",
        "print(latitude, longitude)"
      ],
      "execution_count": 6,
      "outputs": [
        {
          "output_type": "stream",
          "text": [
            "40.7151482 -74.0156573\n"
          ],
          "name": "stdout"
        }
      ]
    },
    {
      "cell_type": "markdown",
      "metadata": {
        "button": false,
        "deletable": true,
        "new_sheet": false,
        "run_control": {
          "read_only": false
        },
        "id": "C60EnSyBWHrg",
        "colab_type": "text"
      },
      "source": [
        "   "
      ]
    },
    {
      "cell_type": "markdown",
      "metadata": {
        "button": false,
        "deletable": true,
        "new_sheet": false,
        "run_control": {
          "read_only": false
        },
        "id": "9BIvBwC-WHrg",
        "colab_type": "text"
      },
      "source": [
        "<a id=\"item1\"></a>"
      ]
    },
    {
      "cell_type": "markdown",
      "metadata": {
        "button": false,
        "deletable": true,
        "new_sheet": false,
        "run_control": {
          "read_only": false
        },
        "id": "bnb2MoZKWHrh",
        "colab_type": "text"
      },
      "source": [
        "## 1. Search for a specific venue category\n",
        "> `https://api.foursquare.com/v2/venues/`**search**`?client_id=`**CLIENT_ID**`&client_secret=`**CLIENT_SECRET**`&ll=`**LATITUDE**`,`**LONGITUDE**`&v=`**VERSION**`&query=`**QUERY**`&radius=`**RADIUS**`&limit=`**LIMIT**"
      ]
    },
    {
      "cell_type": "markdown",
      "metadata": {
        "button": false,
        "deletable": true,
        "new_sheet": false,
        "run_control": {
          "read_only": false
        },
        "id": "rsoVR9yFWHrh",
        "colab_type": "text"
      },
      "source": [
        "#### Now, let's assume that it is lunch time, and you are craving Italian food. So, let's define a query to search for Italian food that is within 500 metres from the Conrad Hotel. "
      ]
    },
    {
      "cell_type": "code",
      "metadata": {
        "button": false,
        "deletable": true,
        "new_sheet": false,
        "run_control": {
          "read_only": false
        },
        "scrolled": true,
        "id": "QQ_6bPDaWHrh",
        "colab_type": "code",
        "colab": {
          "base_uri": "https://localhost:8080/",
          "height": 34
        },
        "outputId": "6064d1c3-e316-44d3-a307-aaaa8807d1eb"
      },
      "source": [
        "search_query = 'Italian'\n",
        "radius = 500\n",
        "print(search_query + ' .... OK!')"
      ],
      "execution_count": 7,
      "outputs": [
        {
          "output_type": "stream",
          "text": [
            "Italian .... OK!\n"
          ],
          "name": "stdout"
        }
      ]
    },
    {
      "cell_type": "markdown",
      "metadata": {
        "button": false,
        "deletable": true,
        "new_sheet": false,
        "run_control": {
          "read_only": false
        },
        "id": "tu-ISEWIWHrk",
        "colab_type": "text"
      },
      "source": [
        "#### Define the corresponding URL"
      ]
    },
    {
      "cell_type": "code",
      "metadata": {
        "button": false,
        "deletable": true,
        "new_sheet": false,
        "run_control": {
          "read_only": false
        },
        "id": "ibXqEpdRWHrl",
        "colab_type": "code",
        "colab": {
          "base_uri": "https://localhost:8080/",
          "height": 54
        },
        "outputId": "10144985-e518-44a7-b5ca-0f23e32803d5"
      },
      "source": [
        "url = 'https://api.foursquare.com/v2/venues/search?client_id={}&client_secret={}&ll={},{}&v={}&query={}&radius={}&limit={}'.format(CLIENT_ID, CLIENT_SECRET, latitude, longitude, VERSION, search_query, radius, LIMIT)\n",
        "url"
      ],
      "execution_count": 8,
      "outputs": [
        {
          "output_type": "execute_result",
          "data": {
            "text/plain": [
              "'https://api.foursquare.com/v2/venues/search?client_id=1Z1J1FGK4R5WD2RSEUC3P011PLPLUP02NJGM2W1OF3UYXJ2M&client_secret=R2VWWYKS1HOSJMD0X2NVS3XTJBIKCJIZ2DEL2VWANBHBX3PN&ll=40.7151482,-74.0156573&v=20180604&query=Italian&radius=500&limit=30'"
            ]
          },
          "metadata": {
            "tags": []
          },
          "execution_count": 8
        }
      ]
    },
    {
      "cell_type": "markdown",
      "metadata": {
        "button": false,
        "deletable": true,
        "new_sheet": false,
        "run_control": {
          "read_only": false
        },
        "id": "TiAbVJaDWHrn",
        "colab_type": "text"
      },
      "source": [
        "#### Send the GET Request and examine the results"
      ]
    },
    {
      "cell_type": "code",
      "metadata": {
        "button": false,
        "deletable": true,
        "new_sheet": false,
        "run_control": {
          "read_only": false
        },
        "scrolled": true,
        "id": "z57VoQKaWHrn",
        "colab_type": "code",
        "colab": {
          "base_uri": "https://localhost:8080/",
          "height": 935
        },
        "outputId": "d047aeea-45f3-416e-fa14-d72e8c2fbb13"
      },
      "source": [
        "results = requests.get(url).json()\n",
        "results"
      ],
      "execution_count": 9,
      "outputs": [
        {
          "output_type": "execute_result",
          "data": {
            "text/plain": [
              "{'meta': {'code': 200, 'requestId': '5ebc40b00de0d9001b4cd4f1'},\n",
              " 'response': {'venues': [{'categories': [{'icon': {'prefix': 'https://ss3.4sqi.net/img/categories_v2/food/pizza_',\n",
              "       'suffix': '.png'},\n",
              "      'id': '4bf58dd8d48988d1ca941735',\n",
              "      'name': 'Pizza Place',\n",
              "      'pluralName': 'Pizza Places',\n",
              "      'primary': True,\n",
              "      'shortName': 'Pizza'}],\n",
              "    'hasPerk': False,\n",
              "    'id': '4fa862b3e4b0ebff2f749f06',\n",
              "    'location': {'address': '225 Murray St',\n",
              "     'cc': 'US',\n",
              "     'city': 'New York',\n",
              "     'country': 'United States',\n",
              "     'distance': 77,\n",
              "     'formattedAddress': ['225 Murray St',\n",
              "      'New York, NY 10282',\n",
              "      'United States'],\n",
              "     'labeledLatLngs': [{'label': 'display',\n",
              "       'lat': 40.71521779064671,\n",
              "       'lng': -74.01473940209351},\n",
              "      {'label': 'entrance', 'lat': 40.715361, 'lng': -74.014975}],\n",
              "     'lat': 40.71521779064671,\n",
              "     'lng': -74.01473940209351,\n",
              "     'postalCode': '10282',\n",
              "     'state': 'NY'},\n",
              "    'name': \"Harry's Italian Pizza Bar\",\n",
              "    'referralId': 'v-1589395651'},\n",
              "   {'categories': [{'icon': {'prefix': 'https://ss3.4sqi.net/img/categories_v2/food/default_',\n",
              "       'suffix': '.png'},\n",
              "      'id': '4d4b7105d754a06374d81259',\n",
              "      'name': 'Food',\n",
              "      'pluralName': 'Food',\n",
              "      'primary': True,\n",
              "      'shortName': 'Food'}],\n",
              "    'hasPerk': False,\n",
              "    'id': '4f3232e219836c91c7bfde94',\n",
              "    'location': {'address': '63 W Broadway',\n",
              "     'cc': 'US',\n",
              "     'city': 'New York',\n",
              "     'country': 'United States',\n",
              "     'distance': 499,\n",
              "     'formattedAddress': ['63 W Broadway',\n",
              "      'New York, NY 10007',\n",
              "      'United States'],\n",
              "     'labeledLatLngs': [{'label': 'display',\n",
              "       'lat': 40.714484000000006,\n",
              "       'lng': -74.00980600000001}],\n",
              "     'lat': 40.714484000000006,\n",
              "     'lng': -74.00980600000001,\n",
              "     'postalCode': '10007',\n",
              "     'state': 'NY'},\n",
              "    'name': 'Conca Cucina Italian Restaurant',\n",
              "    'referralId': 'v-1589395651'}]}}"
            ]
          },
          "metadata": {
            "tags": []
          },
          "execution_count": 9
        }
      ]
    },
    {
      "cell_type": "markdown",
      "metadata": {
        "button": false,
        "deletable": true,
        "new_sheet": false,
        "run_control": {
          "read_only": false
        },
        "id": "pGrCyWC1WHrp",
        "colab_type": "text"
      },
      "source": [
        "#### Get relevant part of JSON and transform it into a *pandas* dataframe"
      ]
    },
    {
      "cell_type": "code",
      "metadata": {
        "button": false,
        "deletable": true,
        "new_sheet": false,
        "run_control": {
          "read_only": false
        },
        "id": "g2iZEQoEWHrq",
        "colab_type": "code",
        "colab": {
          "base_uri": "https://localhost:8080/",
          "height": 250
        },
        "outputId": "fcd9c37d-b2c1-4296-cd36-cfb9c757fad3"
      },
      "source": [
        "# assign relevant part of JSON to venues\n",
        "venues = results['response']['venues']\n",
        "\n",
        "# tranform venues into a dataframe\n",
        "dataframe = json_normalize(venues)\n",
        "dataframe.head()"
      ],
      "execution_count": 10,
      "outputs": [
        {
          "output_type": "stream",
          "text": [
            "/usr/local/lib/python3.6/dist-packages/ipykernel_launcher.py:5: FutureWarning: pandas.io.json.json_normalize is deprecated, use pandas.json_normalize instead\n",
            "  \"\"\"\n"
          ],
          "name": "stderr"
        },
        {
          "output_type": "execute_result",
          "data": {
            "text/html": [
              "<div>\n",
              "<style scoped>\n",
              "    .dataframe tbody tr th:only-of-type {\n",
              "        vertical-align: middle;\n",
              "    }\n",
              "\n",
              "    .dataframe tbody tr th {\n",
              "        vertical-align: top;\n",
              "    }\n",
              "\n",
              "    .dataframe thead th {\n",
              "        text-align: right;\n",
              "    }\n",
              "</style>\n",
              "<table border=\"1\" class=\"dataframe\">\n",
              "  <thead>\n",
              "    <tr style=\"text-align: right;\">\n",
              "      <th></th>\n",
              "      <th>id</th>\n",
              "      <th>name</th>\n",
              "      <th>categories</th>\n",
              "      <th>referralId</th>\n",
              "      <th>hasPerk</th>\n",
              "      <th>location.address</th>\n",
              "      <th>location.lat</th>\n",
              "      <th>location.lng</th>\n",
              "      <th>location.labeledLatLngs</th>\n",
              "      <th>location.distance</th>\n",
              "      <th>location.postalCode</th>\n",
              "      <th>location.cc</th>\n",
              "      <th>location.city</th>\n",
              "      <th>location.state</th>\n",
              "      <th>location.country</th>\n",
              "      <th>location.formattedAddress</th>\n",
              "    </tr>\n",
              "  </thead>\n",
              "  <tbody>\n",
              "    <tr>\n",
              "      <th>0</th>\n",
              "      <td>4fa862b3e4b0ebff2f749f06</td>\n",
              "      <td>Harry's Italian Pizza Bar</td>\n",
              "      <td>[{'id': '4bf58dd8d48988d1ca941735', 'name': 'P...</td>\n",
              "      <td>v-1589395651</td>\n",
              "      <td>False</td>\n",
              "      <td>225 Murray St</td>\n",
              "      <td>40.715218</td>\n",
              "      <td>-74.014739</td>\n",
              "      <td>[{'label': 'display', 'lat': 40.71521779064671...</td>\n",
              "      <td>77</td>\n",
              "      <td>10282</td>\n",
              "      <td>US</td>\n",
              "      <td>New York</td>\n",
              "      <td>NY</td>\n",
              "      <td>United States</td>\n",
              "      <td>[225 Murray St, New York, NY 10282, United Sta...</td>\n",
              "    </tr>\n",
              "    <tr>\n",
              "      <th>1</th>\n",
              "      <td>4f3232e219836c91c7bfde94</td>\n",
              "      <td>Conca Cucina Italian Restaurant</td>\n",
              "      <td>[{'id': '4d4b7105d754a06374d81259', 'name': 'F...</td>\n",
              "      <td>v-1589395651</td>\n",
              "      <td>False</td>\n",
              "      <td>63 W Broadway</td>\n",
              "      <td>40.714484</td>\n",
              "      <td>-74.009806</td>\n",
              "      <td>[{'label': 'display', 'lat': 40.71448400000000...</td>\n",
              "      <td>499</td>\n",
              "      <td>10007</td>\n",
              "      <td>US</td>\n",
              "      <td>New York</td>\n",
              "      <td>NY</td>\n",
              "      <td>United States</td>\n",
              "      <td>[63 W Broadway, New York, NY 10007, United Sta...</td>\n",
              "    </tr>\n",
              "  </tbody>\n",
              "</table>\n",
              "</div>"
            ],
            "text/plain": [
              "                         id  ...                          location.formattedAddress\n",
              "0  4fa862b3e4b0ebff2f749f06  ...  [225 Murray St, New York, NY 10282, United Sta...\n",
              "1  4f3232e219836c91c7bfde94  ...  [63 W Broadway, New York, NY 10007, United Sta...\n",
              "\n",
              "[2 rows x 16 columns]"
            ]
          },
          "metadata": {
            "tags": []
          },
          "execution_count": 10
        }
      ]
    },
    {
      "cell_type": "markdown",
      "metadata": {
        "button": false,
        "deletable": true,
        "new_sheet": false,
        "run_control": {
          "read_only": false
        },
        "id": "sWdfecMWWHrs",
        "colab_type": "text"
      },
      "source": [
        "#### Define information of interest and filter dataframe"
      ]
    },
    {
      "cell_type": "code",
      "metadata": {
        "button": false,
        "deletable": true,
        "new_sheet": false,
        "run_control": {
          "read_only": false
        },
        "scrolled": true,
        "id": "uW3EAibXWHrs",
        "colab_type": "code",
        "colab": {
          "base_uri": "https://localhost:8080/",
          "height": 145
        },
        "outputId": "2d650a27-1b1e-4cd6-d3d2-73340bcb819d"
      },
      "source": [
        "# keep only columns that include venue name, and anything that is associated with location\n",
        "filtered_columns = ['name', 'categories'] + [col for col in dataframe.columns if col.startswith('location.')] + ['id']\n",
        "dataframe_filtered = dataframe.loc[:, filtered_columns]\n",
        "\n",
        "# function that extracts the category of the venue\n",
        "def get_category_type(row):\n",
        "    try:\n",
        "        categories_list = row['categories']\n",
        "    except:\n",
        "        categories_list = row['venue.categories']\n",
        "        \n",
        "    if len(categories_list) == 0:\n",
        "        return None\n",
        "    else:\n",
        "        return categories_list[0]['name']\n",
        "\n",
        "# filter the category for each row\n",
        "dataframe_filtered['categories'] = dataframe_filtered.apply(get_category_type, axis=1)\n",
        "\n",
        "# clean column names by keeping only last term\n",
        "dataframe_filtered.columns = [column.split('.')[-1] for column in dataframe_filtered.columns]\n",
        "\n",
        "dataframe_filtered"
      ],
      "execution_count": 11,
      "outputs": [
        {
          "output_type": "execute_result",
          "data": {
            "text/html": [
              "<div>\n",
              "<style scoped>\n",
              "    .dataframe tbody tr th:only-of-type {\n",
              "        vertical-align: middle;\n",
              "    }\n",
              "\n",
              "    .dataframe tbody tr th {\n",
              "        vertical-align: top;\n",
              "    }\n",
              "\n",
              "    .dataframe thead th {\n",
              "        text-align: right;\n",
              "    }\n",
              "</style>\n",
              "<table border=\"1\" class=\"dataframe\">\n",
              "  <thead>\n",
              "    <tr style=\"text-align: right;\">\n",
              "      <th></th>\n",
              "      <th>name</th>\n",
              "      <th>categories</th>\n",
              "      <th>address</th>\n",
              "      <th>lat</th>\n",
              "      <th>lng</th>\n",
              "      <th>labeledLatLngs</th>\n",
              "      <th>distance</th>\n",
              "      <th>postalCode</th>\n",
              "      <th>cc</th>\n",
              "      <th>city</th>\n",
              "      <th>state</th>\n",
              "      <th>country</th>\n",
              "      <th>formattedAddress</th>\n",
              "      <th>id</th>\n",
              "    </tr>\n",
              "  </thead>\n",
              "  <tbody>\n",
              "    <tr>\n",
              "      <th>0</th>\n",
              "      <td>Harry's Italian Pizza Bar</td>\n",
              "      <td>Pizza Place</td>\n",
              "      <td>225 Murray St</td>\n",
              "      <td>40.715218</td>\n",
              "      <td>-74.014739</td>\n",
              "      <td>[{'label': 'display', 'lat': 40.71521779064671...</td>\n",
              "      <td>77</td>\n",
              "      <td>10282</td>\n",
              "      <td>US</td>\n",
              "      <td>New York</td>\n",
              "      <td>NY</td>\n",
              "      <td>United States</td>\n",
              "      <td>[225 Murray St, New York, NY 10282, United Sta...</td>\n",
              "      <td>4fa862b3e4b0ebff2f749f06</td>\n",
              "    </tr>\n",
              "    <tr>\n",
              "      <th>1</th>\n",
              "      <td>Conca Cucina Italian Restaurant</td>\n",
              "      <td>Food</td>\n",
              "      <td>63 W Broadway</td>\n",
              "      <td>40.714484</td>\n",
              "      <td>-74.009806</td>\n",
              "      <td>[{'label': 'display', 'lat': 40.71448400000000...</td>\n",
              "      <td>499</td>\n",
              "      <td>10007</td>\n",
              "      <td>US</td>\n",
              "      <td>New York</td>\n",
              "      <td>NY</td>\n",
              "      <td>United States</td>\n",
              "      <td>[63 W Broadway, New York, NY 10007, United Sta...</td>\n",
              "      <td>4f3232e219836c91c7bfde94</td>\n",
              "    </tr>\n",
              "  </tbody>\n",
              "</table>\n",
              "</div>"
            ],
            "text/plain": [
              "                              name  ...                        id\n",
              "0        Harry's Italian Pizza Bar  ...  4fa862b3e4b0ebff2f749f06\n",
              "1  Conca Cucina Italian Restaurant  ...  4f3232e219836c91c7bfde94\n",
              "\n",
              "[2 rows x 14 columns]"
            ]
          },
          "metadata": {
            "tags": []
          },
          "execution_count": 11
        }
      ]
    },
    {
      "cell_type": "markdown",
      "metadata": {
        "button": false,
        "deletable": true,
        "new_sheet": false,
        "run_control": {
          "read_only": false
        },
        "id": "FqOGuPnhWHrx",
        "colab_type": "text"
      },
      "source": [
        "#### Let's visualize the Italian restaurants that are nearby"
      ]
    },
    {
      "cell_type": "code",
      "metadata": {
        "button": false,
        "deletable": true,
        "new_sheet": false,
        "run_control": {
          "read_only": false
        },
        "id": "WnLzwEHiWHrx",
        "colab_type": "code",
        "colab": {
          "base_uri": "https://localhost:8080/",
          "height": 68
        },
        "outputId": "5ff0dade-2df1-41bb-cdc3-da148c36c90b"
      },
      "source": [
        "dataframe_filtered.name"
      ],
      "execution_count": 12,
      "outputs": [
        {
          "output_type": "execute_result",
          "data": {
            "text/plain": [
              "0          Harry's Italian Pizza Bar\n",
              "1    Conca Cucina Italian Restaurant\n",
              "Name: name, dtype: object"
            ]
          },
          "metadata": {
            "tags": []
          },
          "execution_count": 12
        }
      ]
    },
    {
      "cell_type": "code",
      "metadata": {
        "button": false,
        "deletable": true,
        "new_sheet": false,
        "run_control": {
          "read_only": false
        },
        "scrolled": false,
        "id": "ti1EU-kXWHrz",
        "colab_type": "code",
        "colab": {
          "base_uri": "https://localhost:8080/",
          "height": 933
        },
        "outputId": "b061f7da-aabd-4596-99e2-01dba91cccb2"
      },
      "source": [
        "#import folium.CircleMarker\n",
        "venues_map = folium.Map(location=[latitude, longitude], zoom_start=13) # generate map centred around the Conrad Hotel\n",
        "\n",
        "# add a red circle marker to represent the Conrad Hotel\n",
        "folium.CircleMarker(\n",
        "    [latitude, longitude],\n",
        "    radius=10,\n",
        "    color='red',\n",
        "    popup='Conrad Hotel',\n",
        "    fill = True,\n",
        "    fill_color = 'red',\n",
        "    fill_opacity = 0.6\n",
        ").add_to(venues_map)\n",
        "\n",
        "# add the Italian restaurants as blue circle markers\n",
        "for lat, lng, label in zip(dataframe_filtered.lat, dataframe_filtered.lng, dataframe_filtered.categories):\n",
        "    folium.CircleMarker(\n",
        "        [lat, lng],\n",
        "        radius=5,\n",
        "        color='blue',\n",
        "        popup=label,\n",
        "        fill = True,\n",
        "        fill_color='blue',\n",
        "        fill_opacity=0.6\n",
        "    ).add_to(venues_map)\n",
        "\n",
        "# display map\n",
        "venues_map"
      ],
      "execution_count": 15,
      "outputs": [
        {
          "output_type": "execute_result",
          "data": {
            "text/html": [
              "<div style=\"width:100%;\"><div style=\"position:relative;width:100%;height:0;padding-bottom:60%;\"><span style=\"color:#565656\">Make this Notebook Trusted to load map: File -> Trust Notebook</span><iframe src=\"about:blank\" style=\"position:absolute;width:100%;height:100%;left:0;top:0;border:none !important;\" data-html=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 onload=\"this.contentDocument.open();this.contentDocument.write(atob(this.getAttribute('data-html')));this.contentDocument.close();\" allowfullscreen webkitallowfullscreen mozallowfullscreen></iframe></div></div>"
            ],
            "text/plain": [
              "<folium.folium.Map at 0x7f5946e3f4e0>"
            ]
          },
          "metadata": {
            "tags": []
          },
          "execution_count": 15
        }
      ]
    },
    {
      "cell_type": "markdown",
      "metadata": {
        "button": false,
        "deletable": true,
        "new_sheet": false,
        "run_control": {
          "read_only": false
        },
        "id": "HlU3SWLrWHr1",
        "colab_type": "text"
      },
      "source": [
        "   "
      ]
    },
    {
      "cell_type": "markdown",
      "metadata": {
        "button": false,
        "deletable": true,
        "new_sheet": false,
        "run_control": {
          "read_only": false
        },
        "id": "fLnK7OTlWHr2",
        "colab_type": "text"
      },
      "source": [
        "<a id=\"item2\"></a>"
      ]
    },
    {
      "cell_type": "markdown",
      "metadata": {
        "button": false,
        "deletable": true,
        "new_sheet": false,
        "run_control": {
          "read_only": false
        },
        "id": "o8FNchabWHr2",
        "colab_type": "text"
      },
      "source": [
        "## 2. Explore a Given Venue\n",
        "> `https://api.foursquare.com/v2/venues/`**VENUE_ID**`?client_id=`**CLIENT_ID**`&client_secret=`**CLIENT_SECRET**`&v=`**VERSION**"
      ]
    },
    {
      "cell_type": "markdown",
      "metadata": {
        "button": false,
        "deletable": true,
        "new_sheet": false,
        "run_control": {
          "read_only": false
        },
        "id": "3335sOKsWHr2",
        "colab_type": "text"
      },
      "source": [
        "### A. Let's explore the closest Italian restaurant -- _Harry's Italian Pizza Bar_"
      ]
    },
    {
      "cell_type": "code",
      "metadata": {
        "button": false,
        "deletable": true,
        "new_sheet": false,
        "run_control": {
          "read_only": false
        },
        "id": "Vw848IyvWHr3",
        "colab_type": "code",
        "colab": {
          "base_uri": "https://localhost:8080/",
          "height": 54
        },
        "outputId": "26045f2a-5088-49c4-9aba-ab6e324ca167"
      },
      "source": [
        "venue_id = '4fa862b3e4b0ebff2f749f06' # ID of Harry's Italian Pizza Bar\n",
        "url = 'https://api.foursquare.com/v2/venues/{}?client_id={}&client_secret={}&v={}'.format(venue_id, CLIENT_ID, CLIENT_SECRET, VERSION)\n",
        "url"
      ],
      "execution_count": 16,
      "outputs": [
        {
          "output_type": "execute_result",
          "data": {
            "text/plain": [
              "'https://api.foursquare.com/v2/venues/4fa862b3e4b0ebff2f749f06?client_id=1Z1J1FGK4R5WD2RSEUC3P011PLPLUP02NJGM2W1OF3UYXJ2M&client_secret=R2VWWYKS1HOSJMD0X2NVS3XTJBIKCJIZ2DEL2VWANBHBX3PN&v=20180604'"
            ]
          },
          "metadata": {
            "tags": []
          },
          "execution_count": 16
        }
      ]
    },
    {
      "cell_type": "markdown",
      "metadata": {
        "button": false,
        "deletable": true,
        "new_sheet": false,
        "run_control": {
          "read_only": false
        },
        "id": "DZJVDYQCWHr5",
        "colab_type": "text"
      },
      "source": [
        "#### Send GET request for result"
      ]
    },
    {
      "cell_type": "code",
      "metadata": {
        "button": false,
        "deletable": true,
        "new_sheet": false,
        "run_control": {
          "read_only": false
        },
        "id": "UJjCDdAfWHr5",
        "colab_type": "code",
        "colab": {
          "base_uri": "https://localhost:8080/",
          "height": 1000
        },
        "outputId": "0ee949c5-a8f4-403b-ea84-fb505f7ee925"
      },
      "source": [
        "result = requests.get(url).json()\n",
        "print(result['response']['venue'].keys())\n",
        "result['response']['venue']"
      ],
      "execution_count": 17,
      "outputs": [
        {
          "output_type": "stream",
          "text": [
            "dict_keys(['id', 'name', 'contact', 'location', 'canonicalUrl', 'categories', 'verified', 'stats', 'url', 'price', 'hasMenu', 'likes', 'dislike', 'ok', 'rating', 'ratingColor', 'ratingSignals', 'menu', 'allowMenuUrlEdit', 'beenHere', 'specials', 'photos', 'reasons', 'hereNow', 'createdAt', 'tips', 'shortUrl', 'timeZone', 'listed', 'hours', 'popular', 'seasonalHours', 'defaultHours', 'pageUpdates', 'inbox', 'attributes', 'bestPhoto', 'colors'])\n"
          ],
          "name": "stdout"
        },
        {
          "output_type": "execute_result",
          "data": {
            "text/plain": [
              "{'allowMenuUrlEdit': True,\n",
              " 'attributes': {'groups': [{'count': 1,\n",
              "    'items': [{'displayName': 'Price', 'displayValue': '$$', 'priceTier': 2}],\n",
              "    'name': 'Price',\n",
              "    'summary': '$$',\n",
              "    'type': 'price'},\n",
              "   {'count': 7,\n",
              "    'items': [{'displayName': 'Credit Cards',\n",
              "      'displayValue': 'Yes (incl. American Express)'}],\n",
              "    'name': 'Credit Cards',\n",
              "    'summary': 'Credit Cards',\n",
              "    'type': 'payments'},\n",
              "   {'count': 1,\n",
              "    'items': [{'displayName': 'Outdoor Seating', 'displayValue': 'Yes'}],\n",
              "    'name': 'Outdoor Seating',\n",
              "    'summary': 'Outdoor Seating',\n",
              "    'type': 'outdoorSeating'},\n",
              "   {'count': 8,\n",
              "    'items': [{'displayName': 'Brunch', 'displayValue': 'Brunch'},\n",
              "     {'displayName': 'Lunch', 'displayValue': 'Lunch'},\n",
              "     {'displayName': 'Dinner', 'displayValue': 'Dinner'},\n",
              "     {'displayName': 'Happy Hour', 'displayValue': 'Happy Hour'}],\n",
              "    'name': 'Menus',\n",
              "    'summary': 'Happy Hour, Brunch & more',\n",
              "    'type': 'serves'},\n",
              "   {'count': 5,\n",
              "    'items': [{'displayName': 'Beer', 'displayValue': 'Beer'},\n",
              "     {'displayName': 'Wine', 'displayValue': 'Wine'},\n",
              "     {'displayName': 'Cocktails', 'displayValue': 'Cocktails'}],\n",
              "    'name': 'Drinks',\n",
              "    'summary': 'Beer, Wine & Cocktails',\n",
              "    'type': 'drinks'},\n",
              "   {'count': 5,\n",
              "    'items': [{'displayName': 'Delivery', 'displayValue': 'Delivery'}],\n",
              "    'name': 'Dining Options',\n",
              "    'summary': 'Delivery',\n",
              "    'type': 'diningOptions'}]},\n",
              " 'beenHere': {'count': 0,\n",
              "  'lastCheckinExpiredAt': 0,\n",
              "  'marked': False,\n",
              "  'unconfirmedCount': 0},\n",
              " 'bestPhoto': {'createdAt': 1336776717,\n",
              "  'height': 640,\n",
              "  'id': '4fad980de4b091b4626c3633',\n",
              "  'prefix': 'https://fastly.4sqi.net/img/general/',\n",
              "  'source': {'name': 'Foursquare for Android',\n",
              "   'url': 'https://foursquare.com/download/#/android'},\n",
              "  'suffix': '/ya1iQFI7pLjuIJp1PGDKlrZS3OJdHCF7tpILMmjv_2w.jpg',\n",
              "  'visibility': 'public',\n",
              "  'width': 480},\n",
              " 'canonicalUrl': 'https://foursquare.com/v/harrys-italian-pizza-bar/4fa862b3e4b0ebff2f749f06',\n",
              " 'categories': [{'icon': {'prefix': 'https://ss3.4sqi.net/img/categories_v2/food/pizza_',\n",
              "    'suffix': '.png'},\n",
              "   'id': '4bf58dd8d48988d1ca941735',\n",
              "   'name': 'Pizza Place',\n",
              "   'pluralName': 'Pizza Places',\n",
              "   'primary': True,\n",
              "   'shortName': 'Pizza'},\n",
              "  {'icon': {'prefix': 'https://ss3.4sqi.net/img/categories_v2/food/italian_',\n",
              "    'suffix': '.png'},\n",
              "   'id': '4bf58dd8d48988d110941735',\n",
              "   'name': 'Italian Restaurant',\n",
              "   'pluralName': 'Italian Restaurants',\n",
              "   'shortName': 'Italian'}],\n",
              " 'colors': {'algoVersion': 3,\n",
              "  'highlightColor': {'photoId': '4fad980de4b091b4626c3633',\n",
              "   'value': -13619152},\n",
              "  'highlightTextColor': {'photoId': '4fad980de4b091b4626c3633', 'value': -1}},\n",
              " 'contact': {'formattedPhone': '(212) 608-1007', 'phone': '2126081007'},\n",
              " 'createdAt': 1336435379,\n",
              " 'defaultHours': {'dayData': [],\n",
              "  'isLocalHoliday': False,\n",
              "  'isOpen': True,\n",
              "  'richStatus': {'entities': [], 'text': 'Open until 11:00 PM'},\n",
              "  'status': 'Open until 11:00 PM',\n",
              "  'timeframes': [{'days': 'Mon–Wed, Sun',\n",
              "    'includesToday': True,\n",
              "    'open': [{'renderedTime': '11:30 AM–11:00 PM'}],\n",
              "    'segments': []},\n",
              "   {'days': 'Thu–Sat',\n",
              "    'open': [{'renderedTime': '11:30 AM–Midnight'}],\n",
              "    'segments': []}]},\n",
              " 'dislike': False,\n",
              " 'hasMenu': True,\n",
              " 'hereNow': {'count': 0, 'groups': [], 'summary': 'Nobody here'},\n",
              " 'hours': {'dayData': [],\n",
              "  'isLocalHoliday': False,\n",
              "  'isOpen': True,\n",
              "  'richStatus': {'entities': [], 'text': 'Open until 11:00 PM'},\n",
              "  'status': 'Open until 11:00 PM',\n",
              "  'timeframes': [{'days': 'Mon–Wed, Sun',\n",
              "    'includesToday': True,\n",
              "    'open': [{'renderedTime': '11:30 AM–11:00 PM'}],\n",
              "    'segments': []},\n",
              "   {'days': 'Thu–Sat',\n",
              "    'open': [{'renderedTime': '11:30 AM–Midnight'}],\n",
              "    'segments': []}]},\n",
              " 'id': '4fa862b3e4b0ebff2f749f06',\n",
              " 'inbox': {'count': 0, 'items': []},\n",
              " 'likes': {'count': 120,\n",
              "  'groups': [{'count': 120, 'items': [], 'type': 'others'}],\n",
              "  'summary': '120 Likes'},\n",
              " 'listed': {'count': 54,\n",
              "  'groups': [{'count': 54,\n",
              "    'items': [{'canonicalUrl': 'https://foursquare.com/becca_mcarthur/list/manhattan-haunts',\n",
              "      'collaborative': False,\n",
              "      'createdAt': 1336094672,\n",
              "      'description': '',\n",
              "      'editable': False,\n",
              "      'followers': {'count': 22},\n",
              "      'id': '4fa32fd0e4b04193744746b1',\n",
              "      'listItems': {'count': 187,\n",
              "       'items': [{'createdAt': 1342934485,\n",
              "         'id': 'v4fa862b3e4b0ebff2f749f06'}]},\n",
              "      'name': 'Manhattan Haunts',\n",
              "      'photo': {'createdAt': 1317849414,\n",
              "       'height': 330,\n",
              "       'id': '4e8cc9461081e3b3544e12e5',\n",
              "       'prefix': 'https://fastly.4sqi.net/img/general/',\n",
              "       'suffix': '/0NLVU2HC1JF4DXIMKWUFW3QBUT31DC11EFNYYHMJG3NDWAPS.jpg',\n",
              "       'user': {'firstName': 'Time Out New York',\n",
              "        'id': '742542',\n",
              "        'photo': {'prefix': 'https://fastly.4sqi.net/img/user/',\n",
              "         'suffix': '/XXHKCBSQHBORZNSR.jpg'},\n",
              "        'type': 'page'},\n",
              "       'visibility': 'public',\n",
              "       'width': 492},\n",
              "      'public': True,\n",
              "      'type': 'others',\n",
              "      'updatedAt': 1380845377,\n",
              "      'url': '/becca_mcarthur/list/manhattan-haunts',\n",
              "      'user': {'firstName': 'Becca',\n",
              "       'id': '24592223',\n",
              "       'lastName': 'M',\n",
              "       'photo': {'prefix': 'https://fastly.4sqi.net/img/user/',\n",
              "        'suffix': '/24592223-RAW2UYM0GIB1U40K.jpg'}}},\n",
              "     {'canonicalUrl': 'https://foursquare.com/kinosfault/list/usa-nyc-man-fidi',\n",
              "      'collaborative': False,\n",
              "      'createdAt': 1336836475,\n",
              "      'description': 'Where to go for decent eats in the restaurant wasteland of Downtown NYC aka FiDi, along with Tribeca & Battery Park City.',\n",
              "      'editable': False,\n",
              "      'followers': {'count': 20},\n",
              "      'id': '4fae817be4b085f6b2a74d19',\n",
              "      'listItems': {'count': 273,\n",
              "       'items': [{'createdAt': 1373909433,\n",
              "         'id': 'v4fa862b3e4b0ebff2f749f06'}]},\n",
              "      'name': 'USA NYC MAN FiDi',\n",
              "      'photo': {'createdAt': 1436043666,\n",
              "       'height': 960,\n",
              "       'id': '55984992498e13ba75e353bb',\n",
              "       'prefix': 'https://fastly.4sqi.net/img/general/',\n",
              "       'suffix': '/12113441_iOa6Uh-Xi8bhj2-gpzkkw8MKiAIs7RmOcz_RM7m8ink.jpg',\n",
              "       'user': {'firstName': 'Kino',\n",
              "        'id': '12113441',\n",
              "        'photo': {'prefix': 'https://fastly.4sqi.net/img/user/',\n",
              "         'suffix': '/12113441-K5HTHFLU2MUCM0CM.jpg'}},\n",
              "       'visibility': 'public',\n",
              "       'width': 540},\n",
              "      'public': True,\n",
              "      'type': 'others',\n",
              "      'updatedAt': 1556754919,\n",
              "      'url': '/kinosfault/list/usa-nyc-man-fidi',\n",
              "      'user': {'firstName': 'Kino',\n",
              "       'id': '12113441',\n",
              "       'photo': {'prefix': 'https://fastly.4sqi.net/img/user/',\n",
              "        'suffix': '/12113441-K5HTHFLU2MUCM0CM.jpg'}}},\n",
              "     {'canonicalUrl': 'https://foursquare.com/rickr7/list/nyc-resturants',\n",
              "      'collaborative': True,\n",
              "      'createdAt': 1339944944,\n",
              "      'description': '',\n",
              "      'editable': False,\n",
              "      'followers': {'count': 12},\n",
              "      'id': '4fddeff0e4b0e078037ac0d3',\n",
              "      'listItems': {'count': 192,\n",
              "       'items': [{'createdAt': 1581655865,\n",
              "         'id': 'v4fa862b3e4b0ebff2f749f06'}]},\n",
              "      'name': 'NYC Resturants',\n",
              "      'photo': {'createdAt': 1349704979,\n",
              "       'height': 800,\n",
              "       'id': '5072dd13e4b09145cdf782d1',\n",
              "       'prefix': 'https://fastly.4sqi.net/img/general/',\n",
              "       'suffix': '/208205_fGh2OuAZ9qJ4agbAA5wMVNOSIm9kNUlRtNwj1N-adqg.jpg',\n",
              "       'user': {'firstName': 'Thalia',\n",
              "        'id': '208205',\n",
              "        'lastName': 'K',\n",
              "        'photo': {'prefix': 'https://fastly.4sqi.net/img/user/',\n",
              "         'suffix': '/SNOOLCAW2AG04ZKD.jpg'}},\n",
              "       'visibility': 'public',\n",
              "       'width': 800},\n",
              "      'public': True,\n",
              "      'type': 'others',\n",
              "      'updatedAt': 1589017010,\n",
              "      'url': '/rickr7/list/nyc-resturants',\n",
              "      'user': {'firstName': 'Richard',\n",
              "       'id': '21563126',\n",
              "       'lastName': 'R',\n",
              "       'photo': {'prefix': 'https://fastly.4sqi.net/img/user/',\n",
              "        'suffix': '/21563126_v05J1KPw_SVj6Ehq9g8B9jeAGjFUMsU5QGl-NZ8inUQ7pKQm5bKplW37EmR7jS2A7GYPBBAtl.jpg'}}},\n",
              "     {'canonicalUrl': 'https://foursquare.com/sweetiewill/list/foodie-love-in-ny--02',\n",
              "      'collaborative': False,\n",
              "      'createdAt': 1382467210,\n",
              "      'description': '',\n",
              "      'editable': False,\n",
              "      'followers': {'count': 7},\n",
              "      'id': '5266c68a498e7c667807fe09',\n",
              "      'listItems': {'count': 200,\n",
              "       'items': [{'createdAt': 1386809936,\n",
              "         'id': 'v4fa862b3e4b0ebff2f749f06'}]},\n",
              "      'name': 'Foodie Love in NY - 02',\n",
              "      'public': True,\n",
              "      'type': 'others',\n",
              "      'updatedAt': 1391995585,\n",
              "      'url': '/sweetiewill/list/foodie-love-in-ny--02',\n",
              "      'user': {'firstName': 'WiLL',\n",
              "       'id': '547977',\n",
              "       'photo': {'prefix': 'https://fastly.4sqi.net/img/user/',\n",
              "        'suffix': '/-Q5NYGDMFDMOITQRR.jpg'}}}],\n",
              "    'name': 'Lists from other people',\n",
              "    'type': 'others'}]},\n",
              " 'location': {'address': '225 Murray St',\n",
              "  'cc': 'US',\n",
              "  'city': 'New York',\n",
              "  'country': 'United States',\n",
              "  'formattedAddress': ['225 Murray St', 'New York, NY 10282', 'United States'],\n",
              "  'labeledLatLngs': [{'label': 'display',\n",
              "    'lat': 40.71521779064671,\n",
              "    'lng': -74.01473940209351},\n",
              "   {'label': 'entrance', 'lat': 40.715361, 'lng': -74.014975}],\n",
              "  'lat': 40.71521779064671,\n",
              "  'lng': -74.01473940209351,\n",
              "  'postalCode': '10282',\n",
              "  'state': 'NY'},\n",
              " 'menu': {'anchor': 'View Menu',\n",
              "  'label': 'Menu',\n",
              "  'mobileUrl': 'https://foursquare.com/v/4fa862b3e4b0ebff2f749f06/device_menu',\n",
              "  'type': 'Menu',\n",
              "  'url': 'https://foursquare.com/v/harrys-italian-pizza-bar/4fa862b3e4b0ebff2f749f06/menu'},\n",
              " 'name': \"Harry's Italian Pizza Bar\",\n",
              " 'ok': False,\n",
              " 'pageUpdates': {'count': 0, 'items': []},\n",
              " 'photos': {'count': 146,\n",
              "  'groups': [{'count': 146,\n",
              "    'items': [{'createdAt': 1336776717,\n",
              "      'height': 640,\n",
              "      'id': '4fad980de4b091b4626c3633',\n",
              "      'prefix': 'https://fastly.4sqi.net/img/general/',\n",
              "      'source': {'name': 'Foursquare for Android',\n",
              "       'url': 'https://foursquare.com/download/#/android'},\n",
              "      'suffix': '/ya1iQFI7pLjuIJp1PGDKlrZS3OJdHCF7tpILMmjv_2w.jpg',\n",
              "      'user': {'firstName': 'Leony',\n",
              "       'id': '13676709',\n",
              "       'lastName': 'N',\n",
              "       'photo': {'prefix': 'https://fastly.4sqi.net/img/user/',\n",
              "        'suffix': '/T0ANFNGNMCHUDEUE.jpg'}},\n",
              "      'visibility': 'public',\n",
              "      'width': 480}],\n",
              "    'name': 'Venue photos',\n",
              "    'type': 'venue'}]},\n",
              " 'popular': {'isLocalHoliday': False,\n",
              "  'isOpen': False,\n",
              "  'timeframes': [{'days': 'Today',\n",
              "    'includesToday': True,\n",
              "    'open': [{'renderedTime': 'Noon–2:00 PM'},\n",
              "     {'renderedTime': '5:00 PM–10:00 PM'}],\n",
              "    'segments': []},\n",
              "   {'days': 'Thu',\n",
              "    'open': [{'renderedTime': 'Noon–2:00 PM'},\n",
              "     {'renderedTime': '5:00 PM–10:00 PM'}],\n",
              "    'segments': []},\n",
              "   {'days': 'Fri',\n",
              "    'open': [{'renderedTime': 'Noon–3:00 PM'},\n",
              "     {'renderedTime': '5:00 PM–11:00 PM'}],\n",
              "    'segments': []},\n",
              "   {'days': 'Sat',\n",
              "    'open': [{'renderedTime': 'Noon–11:00 PM'}],\n",
              "    'segments': []},\n",
              "   {'days': 'Sun',\n",
              "    'open': [{'renderedTime': 'Noon–3:00 PM'},\n",
              "     {'renderedTime': '5:00 PM–8:00 PM'}],\n",
              "    'segments': []},\n",
              "   {'days': 'Mon',\n",
              "    'open': [{'renderedTime': 'Noon–2:00 PM'},\n",
              "     {'renderedTime': '6:00 PM–8:00 PM'}],\n",
              "    'segments': []},\n",
              "   {'days': 'Tue',\n",
              "    'open': [{'renderedTime': 'Noon–2:00 PM'},\n",
              "     {'renderedTime': '5:00 PM–10:00 PM'}],\n",
              "    'segments': []}]},\n",
              " 'price': {'currency': '$', 'message': 'Moderate', 'tier': 2},\n",
              " 'rating': 6.4,\n",
              " 'ratingColor': 'FFC800',\n",
              " 'ratingSignals': 212,\n",
              " 'reasons': {'count': 1,\n",
              "  'items': [{'reasonName': 'rawLikesReason',\n",
              "    'summary': 'Lots of people like this place',\n",
              "    'type': 'general'}]},\n",
              " 'seasonalHours': [],\n",
              " 'shortUrl': 'http://4sq.com/JNblHV',\n",
              " 'specials': {'count': 0, 'items': []},\n",
              " 'stats': {'tipCount': 57},\n",
              " 'timeZone': 'America/New_York',\n",
              " 'tips': {'count': 57,\n",
              "  'groups': [{'count': 57,\n",
              "    'items': [{'agreeCount': 4,\n",
              "      'canonicalUrl': 'https://foursquare.com/item/53d27909498e0523841340b6',\n",
              "      'createdAt': 1406302473,\n",
              "      'disagreeCount': 0,\n",
              "      'id': '53d27909498e0523841340b6',\n",
              "      'lang': 'en',\n",
              "      'likes': {'count': 4,\n",
              "       'groups': [{'count': 4,\n",
              "         'items': [{'firstName': 'P.',\n",
              "           'id': '369426',\n",
              "           'lastName': 'M',\n",
              "           'photo': {'prefix': 'https://fastly.4sqi.net/img/user/',\n",
              "            'suffix': '/JPQYUWJKUT0H2OO4.jpg'}},\n",
              "          {'firstName': 'Diane',\n",
              "           'id': '87587879',\n",
              "           'lastName': 'D',\n",
              "           'photo': {'prefix': 'https://fastly.4sqi.net/img/user/',\n",
              "            'suffix': '/87587879-ESLRSZLQ2CBE2P4W.jpg'}},\n",
              "          {'firstName': 'Tim',\n",
              "           'id': '87591341',\n",
              "           'lastName': 'S',\n",
              "           'photo': {'prefix': 'https://fastly.4sqi.net/img/user/',\n",
              "            'suffix': '/-Z4YK4VKE0JSVXIY1.jpg'}},\n",
              "          {'firstName': 'TenantKing.com',\n",
              "           'id': '87473404',\n",
              "           'photo': {'prefix': 'https://fastly.4sqi.net/img/user/',\n",
              "            'suffix': '/87473404-HI5DTBTK0HX401CA.png'},\n",
              "           'type': 'page'}],\n",
              "         'type': 'others'}],\n",
              "       'summary': '4 likes'},\n",
              "      'logView': True,\n",
              "      'text': \"Harry's Italian Pizza bar is known for it's amazing pizza, but did you know that the brunches here are amazing too? Try the Nutella French toast and we know you'll be sold.\",\n",
              "      'todo': {'count': 0},\n",
              "      'type': 'user',\n",
              "      'user': {'firstName': 'TenantKing.com',\n",
              "       'id': '87473404',\n",
              "       'photo': {'prefix': 'https://fastly.4sqi.net/img/user/',\n",
              "        'suffix': '/87473404-HI5DTBTK0HX401CA.png'},\n",
              "       'type': 'page'}}],\n",
              "    'name': 'All tips',\n",
              "    'type': 'others'}]},\n",
              " 'url': 'http://harrysitalian.com',\n",
              " 'verified': False}"
            ]
          },
          "metadata": {
            "tags": []
          },
          "execution_count": 17
        }
      ]
    },
    {
      "cell_type": "markdown",
      "metadata": {
        "button": false,
        "deletable": true,
        "new_sheet": false,
        "run_control": {
          "read_only": false
        },
        "id": "AWli3b_CWHr8",
        "colab_type": "text"
      },
      "source": [
        "### B. Get the venue's overall rating"
      ]
    },
    {
      "cell_type": "code",
      "metadata": {
        "button": false,
        "deletable": true,
        "new_sheet": false,
        "run_control": {
          "read_only": false
        },
        "id": "GwYur9f6WHr8",
        "colab_type": "code",
        "colab": {
          "base_uri": "https://localhost:8080/",
          "height": 34
        },
        "outputId": "ac48359c-8fec-4439-c9de-d787a6806272"
      },
      "source": [
        "try:\n",
        "    print(result['response']['venue']['rating'])\n",
        "except:\n",
        "    print('This venue has not been rated yet.')"
      ],
      "execution_count": 18,
      "outputs": [
        {
          "output_type": "stream",
          "text": [
            "6.4\n"
          ],
          "name": "stdout"
        }
      ]
    },
    {
      "cell_type": "markdown",
      "metadata": {
        "button": false,
        "deletable": true,
        "new_sheet": false,
        "run_control": {
          "read_only": false
        },
        "id": "JkcGlEPMWHr-",
        "colab_type": "text"
      },
      "source": [
        "That is not a very good rating. Let's check the rating of the second closest Italian restaurant."
      ]
    },
    {
      "cell_type": "code",
      "metadata": {
        "button": false,
        "deletable": true,
        "new_sheet": false,
        "run_control": {
          "read_only": false
        },
        "id": "nhjwJjXNWHr_",
        "colab_type": "code",
        "colab": {
          "base_uri": "https://localhost:8080/",
          "height": 34
        },
        "outputId": "032ebc4e-b789-468b-85e6-6401925ae648"
      },
      "source": [
        "venue_id = '4f3232e219836c91c7bfde94' # ID of Conca Cucina Italian Restaurant\n",
        "url = 'https://api.foursquare.com/v2/venues/{}?client_id={}&client_secret={}&v={}'.format(venue_id, CLIENT_ID, CLIENT_SECRET, VERSION)\n",
        "\n",
        "result = requests.get(url).json()\n",
        "try:\n",
        "    print(result['response']['venue']['rating'])\n",
        "except:\n",
        "    print('This venue has not been rated yet.')"
      ],
      "execution_count": 19,
      "outputs": [
        {
          "output_type": "stream",
          "text": [
            "This venue has not been rated yet.\n"
          ],
          "name": "stdout"
        }
      ]
    },
    {
      "cell_type": "markdown",
      "metadata": {
        "button": false,
        "deletable": true,
        "new_sheet": false,
        "run_control": {
          "read_only": false
        },
        "id": "AMeNQB36WHsD",
        "colab_type": "text"
      },
      "source": [
        "Since this restaurant has no ratings, let's check the third restaurant."
      ]
    },
    {
      "cell_type": "code",
      "metadata": {
        "button": false,
        "deletable": true,
        "new_sheet": false,
        "run_control": {
          "read_only": false
        },
        "id": "GjsnrHC7WHsD",
        "colab_type": "code",
        "colab": {
          "base_uri": "https://localhost:8080/",
          "height": 34
        },
        "outputId": "bc8a0f58-b903-4628-df5e-59d4517637c6"
      },
      "source": [
        "venue_id = '3fd66200f964a520f4e41ee3' # ID of Ecco\n",
        "url = 'https://api.foursquare.com/v2/venues/{}?client_id={}&client_secret={}&v={}'.format(venue_id, CLIENT_ID, CLIENT_SECRET, VERSION)\n",
        "\n",
        "result = requests.get(url).json()\n",
        "try:\n",
        "    print(result['response']['venue']['rating'])\n",
        "except:\n",
        "    print('This venue has not been rated yet.')"
      ],
      "execution_count": 20,
      "outputs": [
        {
          "output_type": "stream",
          "text": [
            "7.4\n"
          ],
          "name": "stdout"
        }
      ]
    },
    {
      "cell_type": "markdown",
      "metadata": {
        "button": false,
        "deletable": true,
        "new_sheet": false,
        "run_control": {
          "read_only": false
        },
        "id": "gfjII5i4WHsF",
        "colab_type": "text"
      },
      "source": [
        "Since this restaurant has a slightly better rating, let's explore it further."
      ]
    },
    {
      "cell_type": "markdown",
      "metadata": {
        "button": false,
        "deletable": true,
        "new_sheet": false,
        "run_control": {
          "read_only": false
        },
        "id": "9TGggbBlWHsF",
        "colab_type": "text"
      },
      "source": [
        "### C. Get the number of tips"
      ]
    },
    {
      "cell_type": "code",
      "metadata": {
        "button": false,
        "deletable": true,
        "new_sheet": false,
        "run_control": {
          "read_only": false
        },
        "id": "Pe9PMICoWHsF",
        "colab_type": "code",
        "colab": {
          "base_uri": "https://localhost:8080/",
          "height": 34
        },
        "outputId": "b1157c97-e7ff-426e-c3d3-48adf3c12221"
      },
      "source": [
        "result['response']['venue']['tips']['count']"
      ],
      "execution_count": 21,
      "outputs": [
        {
          "output_type": "execute_result",
          "data": {
            "text/plain": [
              "19"
            ]
          },
          "metadata": {
            "tags": []
          },
          "execution_count": 21
        }
      ]
    },
    {
      "cell_type": "markdown",
      "metadata": {
        "button": false,
        "deletable": true,
        "new_sheet": false,
        "run_control": {
          "read_only": false
        },
        "id": "1NBStEAQWHsH",
        "colab_type": "text"
      },
      "source": [
        "### D. Get the venue's tips\n",
        "> `https://api.foursquare.com/v2/venues/`**VENUE_ID**`/tips?client_id=`**CLIENT_ID**`&client_secret=`**CLIENT_SECRET**`&v=`**VERSION**`&limit=`**LIMIT**"
      ]
    },
    {
      "cell_type": "markdown",
      "metadata": {
        "button": false,
        "deletable": true,
        "new_sheet": false,
        "run_control": {
          "read_only": false
        },
        "id": "FHHCmwBbWHsI",
        "colab_type": "text"
      },
      "source": [
        "#### Create URL and send GET request. Make sure to set limit to get all tips"
      ]
    },
    {
      "cell_type": "code",
      "metadata": {
        "button": false,
        "deletable": true,
        "new_sheet": false,
        "run_control": {
          "read_only": false
        },
        "id": "PSbCmfrIWHsI",
        "colab_type": "code",
        "colab": {
          "base_uri": "https://localhost:8080/",
          "height": 360
        },
        "outputId": "cbee1a89-24ff-486c-ea1f-0192ffcbdde6"
      },
      "source": [
        "## Ecco Tips\n",
        "limit = 15 # set limit to be greater than or equal to the total number of tips\n",
        "url = 'https://api.foursquare.com/v2/venues/{}/tips?client_id={}&client_secret={}&v={}&limit={}'.format(venue_id, CLIENT_ID, CLIENT_SECRET, VERSION, limit)\n",
        "\n",
        "results = requests.get(url).json()\n",
        "results"
      ],
      "execution_count": 22,
      "outputs": [
        {
          "output_type": "execute_result",
          "data": {
            "text/plain": [
              "{'meta': {'code': 200, 'requestId': '5ebc40c9211536001b346aa7'},\n",
              " 'response': {'tips': {'count': 19,\n",
              "   'items': [{'agreeCount': 4,\n",
              "     'authorInteractionType': 'liked',\n",
              "     'canonicalUrl': 'https://foursquare.com/item/5ab1cb46c9a517174651d3fe',\n",
              "     'createdAt': 1521601350,\n",
              "     'disagreeCount': 0,\n",
              "     'id': '5ab1cb46c9a517174651d3fe',\n",
              "     'lang': 'en',\n",
              "     'likes': {'count': 0, 'groups': []},\n",
              "     'logView': True,\n",
              "     'text': 'A+ Italian food! Trust me on this: my mom’s side of the family is 100% Italian. I was born and bred to know good pasta when I see it, and Ecco is one of my all-time NYC favorites',\n",
              "     'todo': {'count': 0},\n",
              "     'type': 'user',\n",
              "     'user': {'firstName': 'Nick',\n",
              "      'id': '484542633',\n",
              "      'lastName': 'E',\n",
              "      'photo': {'prefix': 'https://fastly.4sqi.net/img/user/',\n",
              "       'suffix': '/484542633_unymNUmw_FdPs3GjXHujmHcYnN4hf8kEPADlOZuIrdcdm97VX3tFqL7fFNMNA_8Gl9NlU1GYg.jpg'}}}]}}}"
            ]
          },
          "metadata": {
            "tags": []
          },
          "execution_count": 22
        }
      ]
    },
    {
      "cell_type": "markdown",
      "metadata": {
        "button": false,
        "deletable": true,
        "new_sheet": false,
        "run_control": {
          "read_only": false
        },
        "id": "Ls8rVFknWHsK",
        "colab_type": "text"
      },
      "source": [
        "#### Get tips and list of associated features"
      ]
    },
    {
      "cell_type": "code",
      "metadata": {
        "button": false,
        "deletable": true,
        "new_sheet": false,
        "run_control": {
          "read_only": false
        },
        "id": "OmgX4NisWHsK",
        "colab_type": "code",
        "colab": {
          "base_uri": "https://localhost:8080/",
          "height": 34
        },
        "outputId": "0ea82d1e-fe0b-40b1-f234-3f96c87d1f2c"
      },
      "source": [
        "tips = results['response']['tips']['items']\n",
        "\n",
        "tip = results['response']['tips']['items'][0]\n",
        "tip.keys()"
      ],
      "execution_count": 23,
      "outputs": [
        {
          "output_type": "execute_result",
          "data": {
            "text/plain": [
              "dict_keys(['id', 'createdAt', 'text', 'type', 'canonicalUrl', 'lang', 'likes', 'logView', 'agreeCount', 'disagreeCount', 'todo', 'user', 'authorInteractionType'])"
            ]
          },
          "metadata": {
            "tags": []
          },
          "execution_count": 23
        }
      ]
    },
    {
      "cell_type": "markdown",
      "metadata": {
        "button": false,
        "deletable": true,
        "new_sheet": false,
        "run_control": {
          "read_only": false
        },
        "id": "zwjPNNyTWHsN",
        "colab_type": "text"
      },
      "source": [
        "#### Format column width and display all tips"
      ]
    },
    {
      "cell_type": "code",
      "metadata": {
        "button": false,
        "deletable": true,
        "new_sheet": false,
        "run_control": {
          "read_only": false
        },
        "scrolled": false,
        "id": "q5wed0FIWHsN",
        "colab_type": "code",
        "colab": {
          "base_uri": "https://localhost:8080/",
          "height": 463
        },
        "outputId": "d2311c4b-30c6-4d27-bb37-e8f46faf8221"
      },
      "source": [
        "pd.set_option('display.max_colwidth', -1)\n",
        "\n",
        "tips_df = json_normalize(tips) # json normalize tips\n",
        "\n",
        "# columns to keep\n",
        "filtered_columns = ['text', 'agreeCount', 'disagreeCount', 'id', 'user.firstName', 'user.lastName', 'user.gender', 'user.id']\n",
        "tips_filtered = tips_df.loc[:, filtered_columns]\n",
        "\n",
        "# display tips\n",
        "tips_filtered"
      ],
      "execution_count": 24,
      "outputs": [
        {
          "output_type": "stream",
          "text": [
            "/usr/local/lib/python3.6/dist-packages/ipykernel_launcher.py:1: FutureWarning: Passing a negative integer is deprecated in version 1.0 and will not be supported in future version. Instead, use None to not limit the column width.\n",
            "  \"\"\"Entry point for launching an IPython kernel.\n",
            "/usr/local/lib/python3.6/dist-packages/ipykernel_launcher.py:3: FutureWarning: pandas.io.json.json_normalize is deprecated, use pandas.json_normalize instead\n",
            "  This is separate from the ipykernel package so we can avoid doing imports until\n"
          ],
          "name": "stderr"
        },
        {
          "output_type": "error",
          "ename": "KeyError",
          "evalue": "ignored",
          "traceback": [
            "\u001b[0;31m---------------------------------------------------------------------------\u001b[0m",
            "\u001b[0;31mKeyError\u001b[0m                                  Traceback (most recent call last)",
            "\u001b[0;32m<ipython-input-24-fe9c7711676c>\u001b[0m in \u001b[0;36m<module>\u001b[0;34m()\u001b[0m\n\u001b[1;32m      5\u001b[0m \u001b[0;31m# columns to keep\u001b[0m\u001b[0;34m\u001b[0m\u001b[0;34m\u001b[0m\u001b[0;34m\u001b[0m\u001b[0m\n\u001b[1;32m      6\u001b[0m \u001b[0mfiltered_columns\u001b[0m \u001b[0;34m=\u001b[0m \u001b[0;34m[\u001b[0m\u001b[0;34m'text'\u001b[0m\u001b[0;34m,\u001b[0m \u001b[0;34m'agreeCount'\u001b[0m\u001b[0;34m,\u001b[0m \u001b[0;34m'disagreeCount'\u001b[0m\u001b[0;34m,\u001b[0m \u001b[0;34m'id'\u001b[0m\u001b[0;34m,\u001b[0m \u001b[0;34m'user.firstName'\u001b[0m\u001b[0;34m,\u001b[0m \u001b[0;34m'user.lastName'\u001b[0m\u001b[0;34m,\u001b[0m \u001b[0;34m'user.gender'\u001b[0m\u001b[0;34m,\u001b[0m \u001b[0;34m'user.id'\u001b[0m\u001b[0;34m]\u001b[0m\u001b[0;34m\u001b[0m\u001b[0;34m\u001b[0m\u001b[0m\n\u001b[0;32m----> 7\u001b[0;31m \u001b[0mtips_filtered\u001b[0m \u001b[0;34m=\u001b[0m \u001b[0mtips_df\u001b[0m\u001b[0;34m.\u001b[0m\u001b[0mloc\u001b[0m\u001b[0;34m[\u001b[0m\u001b[0;34m:\u001b[0m\u001b[0;34m,\u001b[0m \u001b[0mfiltered_columns\u001b[0m\u001b[0;34m]\u001b[0m\u001b[0;34m\u001b[0m\u001b[0;34m\u001b[0m\u001b[0m\n\u001b[0m\u001b[1;32m      8\u001b[0m \u001b[0;34m\u001b[0m\u001b[0m\n\u001b[1;32m      9\u001b[0m \u001b[0;31m# display tips\u001b[0m\u001b[0;34m\u001b[0m\u001b[0;34m\u001b[0m\u001b[0;34m\u001b[0m\u001b[0m\n",
            "\u001b[0;32m/usr/local/lib/python3.6/dist-packages/pandas/core/indexing.py\u001b[0m in \u001b[0;36m__getitem__\u001b[0;34m(self, key)\u001b[0m\n\u001b[1;32m   1760\u001b[0m                 \u001b[0;32mexcept\u001b[0m \u001b[0;34m(\u001b[0m\u001b[0mKeyError\u001b[0m\u001b[0;34m,\u001b[0m \u001b[0mIndexError\u001b[0m\u001b[0;34m,\u001b[0m \u001b[0mAttributeError\u001b[0m\u001b[0;34m)\u001b[0m\u001b[0;34m:\u001b[0m\u001b[0;34m\u001b[0m\u001b[0;34m\u001b[0m\u001b[0m\n\u001b[1;32m   1761\u001b[0m                     \u001b[0;32mpass\u001b[0m\u001b[0;34m\u001b[0m\u001b[0;34m\u001b[0m\u001b[0m\n\u001b[0;32m-> 1762\u001b[0;31m             \u001b[0;32mreturn\u001b[0m \u001b[0mself\u001b[0m\u001b[0;34m.\u001b[0m\u001b[0m_getitem_tuple\u001b[0m\u001b[0;34m(\u001b[0m\u001b[0mkey\u001b[0m\u001b[0;34m)\u001b[0m\u001b[0;34m\u001b[0m\u001b[0;34m\u001b[0m\u001b[0m\n\u001b[0m\u001b[1;32m   1763\u001b[0m         \u001b[0;32melse\u001b[0m\u001b[0;34m:\u001b[0m\u001b[0;34m\u001b[0m\u001b[0;34m\u001b[0m\u001b[0m\n\u001b[1;32m   1764\u001b[0m             \u001b[0;31m# we by definition only have the 0th axis\u001b[0m\u001b[0;34m\u001b[0m\u001b[0;34m\u001b[0m\u001b[0;34m\u001b[0m\u001b[0m\n",
            "\u001b[0;32m/usr/local/lib/python3.6/dist-packages/pandas/core/indexing.py\u001b[0m in \u001b[0;36m_getitem_tuple\u001b[0;34m(self, tup)\u001b[0m\n\u001b[1;32m   1287\u001b[0m                 \u001b[0;32mcontinue\u001b[0m\u001b[0;34m\u001b[0m\u001b[0;34m\u001b[0m\u001b[0m\n\u001b[1;32m   1288\u001b[0m \u001b[0;34m\u001b[0m\u001b[0m\n\u001b[0;32m-> 1289\u001b[0;31m             \u001b[0mretval\u001b[0m \u001b[0;34m=\u001b[0m \u001b[0mgetattr\u001b[0m\u001b[0;34m(\u001b[0m\u001b[0mretval\u001b[0m\u001b[0;34m,\u001b[0m \u001b[0mself\u001b[0m\u001b[0;34m.\u001b[0m\u001b[0mname\u001b[0m\u001b[0;34m)\u001b[0m\u001b[0;34m.\u001b[0m\u001b[0m_getitem_axis\u001b[0m\u001b[0;34m(\u001b[0m\u001b[0mkey\u001b[0m\u001b[0;34m,\u001b[0m \u001b[0maxis\u001b[0m\u001b[0;34m=\u001b[0m\u001b[0mi\u001b[0m\u001b[0;34m)\u001b[0m\u001b[0;34m\u001b[0m\u001b[0;34m\u001b[0m\u001b[0m\n\u001b[0m\u001b[1;32m   1290\u001b[0m \u001b[0;34m\u001b[0m\u001b[0m\n\u001b[1;32m   1291\u001b[0m         \u001b[0;32mreturn\u001b[0m \u001b[0mretval\u001b[0m\u001b[0;34m\u001b[0m\u001b[0;34m\u001b[0m\u001b[0m\n",
            "\u001b[0;32m/usr/local/lib/python3.6/dist-packages/pandas/core/indexing.py\u001b[0m in \u001b[0;36m_getitem_axis\u001b[0;34m(self, key, axis)\u001b[0m\n\u001b[1;32m   1952\u001b[0m                     \u001b[0;32mraise\u001b[0m \u001b[0mValueError\u001b[0m\u001b[0;34m(\u001b[0m\u001b[0;34m\"Cannot index with multidimensional key\"\u001b[0m\u001b[0;34m)\u001b[0m\u001b[0;34m\u001b[0m\u001b[0;34m\u001b[0m\u001b[0m\n\u001b[1;32m   1953\u001b[0m \u001b[0;34m\u001b[0m\u001b[0m\n\u001b[0;32m-> 1954\u001b[0;31m                 \u001b[0;32mreturn\u001b[0m \u001b[0mself\u001b[0m\u001b[0;34m.\u001b[0m\u001b[0m_getitem_iterable\u001b[0m\u001b[0;34m(\u001b[0m\u001b[0mkey\u001b[0m\u001b[0;34m,\u001b[0m \u001b[0maxis\u001b[0m\u001b[0;34m=\u001b[0m\u001b[0maxis\u001b[0m\u001b[0;34m)\u001b[0m\u001b[0;34m\u001b[0m\u001b[0;34m\u001b[0m\u001b[0m\n\u001b[0m\u001b[1;32m   1955\u001b[0m \u001b[0;34m\u001b[0m\u001b[0m\n\u001b[1;32m   1956\u001b[0m             \u001b[0;31m# nested tuple slicing\u001b[0m\u001b[0;34m\u001b[0m\u001b[0;34m\u001b[0m\u001b[0;34m\u001b[0m\u001b[0m\n",
            "\u001b[0;32m/usr/local/lib/python3.6/dist-packages/pandas/core/indexing.py\u001b[0m in \u001b[0;36m_getitem_iterable\u001b[0;34m(self, key, axis)\u001b[0m\n\u001b[1;32m   1593\u001b[0m         \u001b[0;32melse\u001b[0m\u001b[0;34m:\u001b[0m\u001b[0;34m\u001b[0m\u001b[0;34m\u001b[0m\u001b[0m\n\u001b[1;32m   1594\u001b[0m             \u001b[0;31m# A collection of keys\u001b[0m\u001b[0;34m\u001b[0m\u001b[0;34m\u001b[0m\u001b[0;34m\u001b[0m\u001b[0m\n\u001b[0;32m-> 1595\u001b[0;31m             \u001b[0mkeyarr\u001b[0m\u001b[0;34m,\u001b[0m \u001b[0mindexer\u001b[0m \u001b[0;34m=\u001b[0m \u001b[0mself\u001b[0m\u001b[0;34m.\u001b[0m\u001b[0m_get_listlike_indexer\u001b[0m\u001b[0;34m(\u001b[0m\u001b[0mkey\u001b[0m\u001b[0;34m,\u001b[0m \u001b[0maxis\u001b[0m\u001b[0;34m,\u001b[0m \u001b[0mraise_missing\u001b[0m\u001b[0;34m=\u001b[0m\u001b[0;32mFalse\u001b[0m\u001b[0;34m)\u001b[0m\u001b[0;34m\u001b[0m\u001b[0;34m\u001b[0m\u001b[0m\n\u001b[0m\u001b[1;32m   1596\u001b[0m             return self.obj._reindex_with_indexers(\n\u001b[1;32m   1597\u001b[0m                 \u001b[0;34m{\u001b[0m\u001b[0maxis\u001b[0m\u001b[0;34m:\u001b[0m \u001b[0;34m[\u001b[0m\u001b[0mkeyarr\u001b[0m\u001b[0;34m,\u001b[0m \u001b[0mindexer\u001b[0m\u001b[0;34m]\u001b[0m\u001b[0;34m}\u001b[0m\u001b[0;34m,\u001b[0m \u001b[0mcopy\u001b[0m\u001b[0;34m=\u001b[0m\u001b[0;32mTrue\u001b[0m\u001b[0;34m,\u001b[0m \u001b[0mallow_dups\u001b[0m\u001b[0;34m=\u001b[0m\u001b[0;32mTrue\u001b[0m\u001b[0;34m\u001b[0m\u001b[0;34m\u001b[0m\u001b[0m\n",
            "\u001b[0;32m/usr/local/lib/python3.6/dist-packages/pandas/core/indexing.py\u001b[0m in \u001b[0;36m_get_listlike_indexer\u001b[0;34m(self, key, axis, raise_missing)\u001b[0m\n\u001b[1;32m   1551\u001b[0m \u001b[0;34m\u001b[0m\u001b[0m\n\u001b[1;32m   1552\u001b[0m         self._validate_read_indexer(\n\u001b[0;32m-> 1553\u001b[0;31m             \u001b[0mkeyarr\u001b[0m\u001b[0;34m,\u001b[0m \u001b[0mindexer\u001b[0m\u001b[0;34m,\u001b[0m \u001b[0mo\u001b[0m\u001b[0;34m.\u001b[0m\u001b[0m_get_axis_number\u001b[0m\u001b[0;34m(\u001b[0m\u001b[0maxis\u001b[0m\u001b[0;34m)\u001b[0m\u001b[0;34m,\u001b[0m \u001b[0mraise_missing\u001b[0m\u001b[0;34m=\u001b[0m\u001b[0mraise_missing\u001b[0m\u001b[0;34m\u001b[0m\u001b[0;34m\u001b[0m\u001b[0m\n\u001b[0m\u001b[1;32m   1554\u001b[0m         )\n\u001b[1;32m   1555\u001b[0m         \u001b[0;32mreturn\u001b[0m \u001b[0mkeyarr\u001b[0m\u001b[0;34m,\u001b[0m \u001b[0mindexer\u001b[0m\u001b[0;34m\u001b[0m\u001b[0;34m\u001b[0m\u001b[0m\n",
            "\u001b[0;32m/usr/local/lib/python3.6/dist-packages/pandas/core/indexing.py\u001b[0m in \u001b[0;36m_validate_read_indexer\u001b[0;34m(self, key, indexer, axis, raise_missing)\u001b[0m\n\u001b[1;32m   1653\u001b[0m             \u001b[0;32mif\u001b[0m \u001b[0;32mnot\u001b[0m \u001b[0;34m(\u001b[0m\u001b[0max\u001b[0m\u001b[0;34m.\u001b[0m\u001b[0mis_categorical\u001b[0m\u001b[0;34m(\u001b[0m\u001b[0;34m)\u001b[0m \u001b[0;32mor\u001b[0m \u001b[0max\u001b[0m\u001b[0;34m.\u001b[0m\u001b[0mis_interval\u001b[0m\u001b[0;34m(\u001b[0m\u001b[0;34m)\u001b[0m\u001b[0;34m)\u001b[0m\u001b[0;34m:\u001b[0m\u001b[0;34m\u001b[0m\u001b[0;34m\u001b[0m\u001b[0m\n\u001b[1;32m   1654\u001b[0m                 raise KeyError(\n\u001b[0;32m-> 1655\u001b[0;31m                     \u001b[0;34m\"Passing list-likes to .loc or [] with any missing labels \"\u001b[0m\u001b[0;34m\u001b[0m\u001b[0;34m\u001b[0m\u001b[0m\n\u001b[0m\u001b[1;32m   1656\u001b[0m                     \u001b[0;34m\"is no longer supported, see \"\u001b[0m\u001b[0;34m\u001b[0m\u001b[0;34m\u001b[0m\u001b[0m\n\u001b[1;32m   1657\u001b[0m                     \u001b[0;34m\"https://pandas.pydata.org/pandas-docs/stable/user_guide/indexing.html#deprecate-loc-reindex-listlike\"\u001b[0m  \u001b[0;31m# noqa:E501\u001b[0m\u001b[0;34m\u001b[0m\u001b[0;34m\u001b[0m\u001b[0m\n",
            "\u001b[0;31mKeyError\u001b[0m: 'Passing list-likes to .loc or [] with any missing labels is no longer supported, see https://pandas.pydata.org/pandas-docs/stable/user_guide/indexing.html#deprecate-loc-reindex-listlike'"
          ]
        }
      ]
    },
    {
      "cell_type": "markdown",
      "metadata": {
        "button": false,
        "deletable": true,
        "new_sheet": false,
        "run_control": {
          "read_only": false
        },
        "id": "BEepPPKGWHsP",
        "colab_type": "text"
      },
      "source": [
        "Now remember that because we are using a personal developer account, then we can access only 2 of the restaurant's tips, instead of all 15 tips."
      ]
    },
    {
      "cell_type": "markdown",
      "metadata": {
        "button": false,
        "deletable": true,
        "new_sheet": false,
        "run_control": {
          "read_only": false
        },
        "id": "06-KkuVnWHsQ",
        "colab_type": "text"
      },
      "source": [
        "   "
      ]
    },
    {
      "cell_type": "markdown",
      "metadata": {
        "button": false,
        "deletable": true,
        "new_sheet": false,
        "run_control": {
          "read_only": false
        },
        "id": "AGqZ4lWxWHsQ",
        "colab_type": "text"
      },
      "source": [
        "<a id=\"item3\"></a>"
      ]
    },
    {
      "cell_type": "markdown",
      "metadata": {
        "button": false,
        "deletable": true,
        "new_sheet": false,
        "run_control": {
          "read_only": false
        },
        "id": "1QxNnprJWHsQ",
        "colab_type": "text"
      },
      "source": [
        "## 3. Search a Foursquare User\n",
        "> `https://api.foursquare.com/v2/users/`**USER_ID**`?client_id=`**CLIENT_ID**`&client_secret=`**CLIENT_SECRET**`&v=`**VERSION**"
      ]
    },
    {
      "cell_type": "markdown",
      "metadata": {
        "button": false,
        "deletable": true,
        "new_sheet": false,
        "run_control": {
          "read_only": false
        },
        "id": "jZlF_U3MWHsR",
        "colab_type": "text"
      },
      "source": [
        "### Define URL, send GET request and display features associated with user"
      ]
    },
    {
      "cell_type": "code",
      "metadata": {
        "button": false,
        "deletable": true,
        "new_sheet": false,
        "run_control": {
          "read_only": false
        },
        "id": "ptNoNWI5WHsR",
        "colab_type": "code",
        "colab": {}
      },
      "source": [
        "user_id = '484542633' # user ID with most agree counts and complete profile\n",
        "\n",
        "url = 'https://api.foursquare.com/v2/users/{}?client_id={}&client_secret={}&v={}'.format(user_id, CLIENT_ID, CLIENT_SECRET, VERSION) # define URL\n",
        "\n",
        "# send GET request\n",
        "results = requests.get(url).json()\n",
        "user_data = results['response']['user']\n",
        "\n",
        "# display features associated with user\n",
        "user_data.keys()"
      ],
      "execution_count": 0,
      "outputs": []
    },
    {
      "cell_type": "code",
      "metadata": {
        "button": false,
        "deletable": true,
        "new_sheet": false,
        "run_control": {
          "read_only": false
        },
        "id": "nGR8ElosWHsT",
        "colab_type": "code",
        "colab": {}
      },
      "source": [
        "print('First Name: ' + user_data['firstName'])\n",
        "print('Last Name: ' + user_data['lastName'])\n",
        "print('Home City: ' + user_data['homeCity'])"
      ],
      "execution_count": 0,
      "outputs": []
    },
    {
      "cell_type": "markdown",
      "metadata": {
        "button": false,
        "deletable": true,
        "new_sheet": false,
        "run_control": {
          "read_only": false
        },
        "id": "zB_XzBcUWHsV",
        "colab_type": "text"
      },
      "source": [
        "#### How many tips has this user submitted?"
      ]
    },
    {
      "cell_type": "code",
      "metadata": {
        "button": false,
        "deletable": true,
        "new_sheet": false,
        "run_control": {
          "read_only": false
        },
        "id": "b65cBsqkWHsV",
        "colab_type": "code",
        "colab": {}
      },
      "source": [
        "user_data['tips']"
      ],
      "execution_count": 0,
      "outputs": []
    },
    {
      "cell_type": "markdown",
      "metadata": {
        "button": false,
        "deletable": true,
        "new_sheet": false,
        "run_control": {
          "read_only": false
        },
        "id": "K-rHMFHoWHsY",
        "colab_type": "text"
      },
      "source": [
        "Wow! So it turns out that Nick is a very active Foursquare user, with more than 250 tips."
      ]
    },
    {
      "cell_type": "markdown",
      "metadata": {
        "button": false,
        "deletable": true,
        "new_sheet": false,
        "run_control": {
          "read_only": false
        },
        "id": "gWPjAlrUWHsZ",
        "colab_type": "text"
      },
      "source": [
        "### Get User's tips"
      ]
    },
    {
      "cell_type": "code",
      "metadata": {
        "button": false,
        "deletable": true,
        "new_sheet": false,
        "run_control": {
          "read_only": false
        },
        "scrolled": false,
        "id": "-VdZbM1hWHsZ",
        "colab_type": "code",
        "colab": {}
      },
      "source": [
        "# define tips URL\n",
        "url = 'https://api.foursquare.com/v2/users/{}/tips?client_id={}&client_secret={}&v={}&limit={}'.format(user_id, CLIENT_ID, CLIENT_SECRET, VERSION, limit)\n",
        "\n",
        "# send GET request and get user's tips\n",
        "results = requests.get(url).json()\n",
        "tips = results['response']['tips']['items']\n",
        "\n",
        "# format column width\n",
        "pd.set_option('display.max_colwidth', -1)\n",
        "\n",
        "tips_df = json_normalize(tips)\n",
        "\n",
        "# filter columns\n",
        "filtered_columns = ['text', 'agreeCount', 'disagreeCount', 'id']\n",
        "tips_filtered = tips_df.loc[:, filtered_columns]\n",
        "\n",
        "# display user's tips\n",
        "tips_filtered"
      ],
      "execution_count": 0,
      "outputs": []
    },
    {
      "cell_type": "markdown",
      "metadata": {
        "button": false,
        "deletable": true,
        "new_sheet": false,
        "run_control": {
          "read_only": false
        },
        "id": "vyOUjNLEWHsb",
        "colab_type": "text"
      },
      "source": [
        "#### Let's get the venue for the tip with the greatest number of agree counts"
      ]
    },
    {
      "cell_type": "code",
      "metadata": {
        "button": false,
        "deletable": true,
        "new_sheet": false,
        "run_control": {
          "read_only": false
        },
        "id": "4gWnTm1BWHsc",
        "colab_type": "code",
        "colab": {}
      },
      "source": [
        "tip_id = '5ab5575d73fe2516ad8f363b' # tip id\n",
        "\n",
        "# define URL\n",
        "url = 'http://api.foursquare.com/v2/tips/{}?client_id={}&client_secret={}&v={}'.format(tip_id, CLIENT_ID, CLIENT_SECRET, VERSION)\n",
        "\n",
        "# send GET Request and examine results\n",
        "result = requests.get(url).json()\n",
        "print(result['response']['tip']['venue']['name'])\n",
        "print(result['response']['tip']['venue']['location'])"
      ],
      "execution_count": 0,
      "outputs": []
    },
    {
      "cell_type": "markdown",
      "metadata": {
        "button": false,
        "deletable": true,
        "new_sheet": false,
        "run_control": {
          "read_only": false
        },
        "id": "56KPBl08WHse",
        "colab_type": "text"
      },
      "source": [
        "### Get User's friends"
      ]
    },
    {
      "cell_type": "code",
      "metadata": {
        "button": false,
        "deletable": true,
        "new_sheet": false,
        "run_control": {
          "read_only": false
        },
        "scrolled": false,
        "id": "9MpxRKU_WHse",
        "colab_type": "code",
        "colab": {}
      },
      "source": [
        "user_friends = json_normalize(user_data['friends']['groups'][0]['items'])\n",
        "user_friends"
      ],
      "execution_count": 0,
      "outputs": []
    },
    {
      "cell_type": "markdown",
      "metadata": {
        "button": false,
        "deletable": true,
        "new_sheet": false,
        "run_control": {
          "read_only": false
        },
        "id": "nZ1huHVTWHsh",
        "colab_type": "text"
      },
      "source": [
        "Interesting. Despite being very active, it turns out that Nick does not have any friends on Foursquare. This might definitely change in the future."
      ]
    },
    {
      "cell_type": "markdown",
      "metadata": {
        "button": false,
        "deletable": true,
        "new_sheet": false,
        "run_control": {
          "read_only": false
        },
        "id": "T7Hg9hH5WHsi",
        "colab_type": "text"
      },
      "source": [
        "### Retrieve the User's Profile Image"
      ]
    },
    {
      "cell_type": "code",
      "metadata": {
        "button": false,
        "deletable": true,
        "new_sheet": false,
        "run_control": {
          "read_only": false
        },
        "scrolled": true,
        "id": "loANT4MUWHsi",
        "colab_type": "code",
        "colab": {}
      },
      "source": [
        "user_data"
      ],
      "execution_count": 0,
      "outputs": []
    },
    {
      "cell_type": "code",
      "metadata": {
        "button": false,
        "deletable": true,
        "new_sheet": false,
        "run_control": {
          "read_only": false
        },
        "id": "E1Ufg_hZWHsn",
        "colab_type": "code",
        "colab": {}
      },
      "source": [
        "# 1. grab prefix of photo\n",
        "# 2. grab suffix of photo\n",
        "# 3. concatenate them using the image size  \n",
        "Image(url='https://igx.4sqi.net/img/user/300x300/484542633_mK2Yum7T_7Tn9fWpndidJsmw2Hof_6T5vJBKCHPLMK5OL-U5ZiJGj51iwBstcpDLYa3Zvhvis.jpg')"
      ],
      "execution_count": 0,
      "outputs": []
    },
    {
      "cell_type": "markdown",
      "metadata": {
        "button": false,
        "deletable": true,
        "new_sheet": false,
        "run_control": {
          "read_only": false
        },
        "id": "rQGw6JbpWHsp",
        "colab_type": "text"
      },
      "source": [
        "  "
      ]
    },
    {
      "cell_type": "markdown",
      "metadata": {
        "button": false,
        "deletable": true,
        "new_sheet": false,
        "run_control": {
          "read_only": false
        },
        "id": "NB8ip5cTWHsq",
        "colab_type": "text"
      },
      "source": [
        "<a id=\"item4\"></a>"
      ]
    },
    {
      "cell_type": "markdown",
      "metadata": {
        "button": false,
        "deletable": true,
        "new_sheet": false,
        "run_control": {
          "read_only": false
        },
        "id": "GmVBYw3CWHsq",
        "colab_type": "text"
      },
      "source": [
        "## 4. Explore a location\n",
        "> `https://api.foursquare.com/v2/venues/`**explore**`?client_id=`**CLIENT_ID**`&client_secret=`**CLIENT_SECRET**`&ll=`**LATITUDE**`,`**LONGITUDE**`&v=`**VERSION**`&limit=`**LIMIT**"
      ]
    },
    {
      "cell_type": "markdown",
      "metadata": {
        "button": false,
        "deletable": true,
        "new_sheet": false,
        "run_control": {
          "read_only": false
        },
        "id": "9R6h8qzDWHsr",
        "colab_type": "text"
      },
      "source": [
        "#### So, you just finished your gourmet dish at Ecco, and are just curious about the popular spots around the restaurant. In order to explore the area, let's start by getting the latitude and longitude values of Ecco Restaurant."
      ]
    },
    {
      "cell_type": "code",
      "metadata": {
        "button": false,
        "collapsed": true,
        "deletable": true,
        "new_sheet": false,
        "run_control": {
          "read_only": false
        },
        "id": "zm3tBr0AWHsr",
        "colab_type": "code",
        "colab": {}
      },
      "source": [
        "latitude = 40.715337\n",
        "longitude = -74.008848"
      ],
      "execution_count": 0,
      "outputs": []
    },
    {
      "cell_type": "markdown",
      "metadata": {
        "button": false,
        "deletable": true,
        "new_sheet": false,
        "run_control": {
          "read_only": false
        },
        "id": "XnGYR2eOWHsu",
        "colab_type": "text"
      },
      "source": [
        "#### Define URL"
      ]
    },
    {
      "cell_type": "code",
      "metadata": {
        "button": false,
        "deletable": true,
        "new_sheet": false,
        "run_control": {
          "read_only": false
        },
        "id": "SxVsaCLcWHsu",
        "colab_type": "code",
        "colab": {}
      },
      "source": [
        "url = 'https://api.foursquare.com/v2/venues/explore?client_id={}&client_secret={}&ll={},{}&v={}&radius={}&limit={}'.format(CLIENT_ID, CLIENT_SECRET, latitude, longitude, VERSION, radius, LIMIT)\n",
        "url"
      ],
      "execution_count": 0,
      "outputs": []
    },
    {
      "cell_type": "markdown",
      "metadata": {
        "button": false,
        "deletable": true,
        "new_sheet": false,
        "run_control": {
          "read_only": false
        },
        "id": "IIUpYqGJWHsy",
        "colab_type": "text"
      },
      "source": [
        "#### Send GET request and examine results"
      ]
    },
    {
      "cell_type": "code",
      "metadata": {
        "button": false,
        "collapsed": true,
        "deletable": true,
        "new_sheet": false,
        "run_control": {
          "read_only": false
        },
        "id": "mTwZrIv0WHsz",
        "colab_type": "code",
        "colab": {}
      },
      "source": [
        "import requests"
      ],
      "execution_count": 0,
      "outputs": []
    },
    {
      "cell_type": "code",
      "metadata": {
        "button": false,
        "deletable": true,
        "new_sheet": false,
        "run_control": {
          "read_only": false
        },
        "id": "3D_0CrG_WHs2",
        "colab_type": "code",
        "colab": {}
      },
      "source": [
        "results = requests.get(url).json()\n",
        "'There are {} around Ecco restaurant.'.format(len(results['response']['groups'][0]['items']))"
      ],
      "execution_count": 0,
      "outputs": []
    },
    {
      "cell_type": "markdown",
      "metadata": {
        "button": false,
        "deletable": true,
        "new_sheet": false,
        "run_control": {
          "read_only": false
        },
        "id": "F3KkFzYbWHs5",
        "colab_type": "text"
      },
      "source": [
        "#### Get relevant part of JSON"
      ]
    },
    {
      "cell_type": "code",
      "metadata": {
        "button": false,
        "deletable": true,
        "new_sheet": false,
        "run_control": {
          "read_only": false
        },
        "id": "KOp0k9y2WHs5",
        "colab_type": "code",
        "colab": {}
      },
      "source": [
        "items = results['response']['groups'][0]['items']\n",
        "items[0]"
      ],
      "execution_count": 0,
      "outputs": []
    },
    {
      "cell_type": "markdown",
      "metadata": {
        "button": false,
        "deletable": true,
        "new_sheet": false,
        "run_control": {
          "read_only": false
        },
        "id": "oSUZK8aIWHs9",
        "colab_type": "text"
      },
      "source": [
        "#### Process JSON and convert it to a clean dataframe"
      ]
    },
    {
      "cell_type": "code",
      "metadata": {
        "button": false,
        "deletable": true,
        "new_sheet": false,
        "run_control": {
          "read_only": false
        },
        "scrolled": false,
        "id": "Fm87w84sWHs9",
        "colab_type": "code",
        "colab": {}
      },
      "source": [
        "dataframe = json_normalize(items) # flatten JSON\n",
        "\n",
        "# filter columns\n",
        "filtered_columns = ['venue.name', 'venue.categories'] + [col for col in dataframe.columns if col.startswith('venue.location.')] + ['venue.id']\n",
        "dataframe_filtered = dataframe.loc[:, filtered_columns]\n",
        "\n",
        "# filter the category for each row\n",
        "dataframe_filtered['venue.categories'] = dataframe_filtered.apply(get_category_type, axis=1)\n",
        "\n",
        "# clean columns\n",
        "dataframe_filtered.columns = [col.split('.')[-1] for col in dataframe_filtered.columns]\n",
        "\n",
        "dataframe_filtered.head(10)"
      ],
      "execution_count": 0,
      "outputs": []
    },
    {
      "cell_type": "markdown",
      "metadata": {
        "button": false,
        "deletable": true,
        "new_sheet": false,
        "run_control": {
          "read_only": false
        },
        "id": "mOSoNKEjWHs_",
        "colab_type": "text"
      },
      "source": [
        "#### Let's visualize these items on the map around our location"
      ]
    },
    {
      "cell_type": "code",
      "metadata": {
        "button": false,
        "deletable": true,
        "new_sheet": false,
        "run_control": {
          "read_only": false
        },
        "id": "0Tmb7Fs-WHs_",
        "colab_type": "code",
        "colab": {}
      },
      "source": [
        "venues_map = folium.Map(location=[latitude, longitude], zoom_start=15) # generate map centred around Ecco\n",
        "\n",
        "\n",
        "# add Ecco as a red circle mark\n",
        "folium.features.CircleMarker(\n",
        "    [latitude, longitude],\n",
        "    radius=10,\n",
        "    popup='Ecco',\n",
        "    fill=True,\n",
        "    color='red',\n",
        "    fill_color='red',\n",
        "    fill_opacity=0.6\n",
        "    ).add_to(venues_map)\n",
        "\n",
        "\n",
        "# add popular spots to the map as blue circle markers\n",
        "for lat, lng, label in zip(dataframe_filtered.lat, dataframe_filtered.lng, dataframe_filtered.categories):\n",
        "    folium.features.CircleMarker(\n",
        "        [lat, lng],\n",
        "        radius=5,\n",
        "        popup=label,\n",
        "        fill=True,\n",
        "        color='blue',\n",
        "        fill_color='blue',\n",
        "        fill_opacity=0.6\n",
        "        ).add_to(venues_map)\n",
        "\n",
        "# display map\n",
        "venues_map"
      ],
      "execution_count": 0,
      "outputs": []
    },
    {
      "cell_type": "markdown",
      "metadata": {
        "button": false,
        "deletable": true,
        "new_sheet": false,
        "run_control": {
          "read_only": false
        },
        "id": "wPMbsgGyWHtC",
        "colab_type": "text"
      },
      "source": [
        "   "
      ]
    },
    {
      "cell_type": "markdown",
      "metadata": {
        "button": false,
        "deletable": true,
        "new_sheet": false,
        "run_control": {
          "read_only": false
        },
        "id": "flBA7KZoWHtD",
        "colab_type": "text"
      },
      "source": [
        "<a id=\"item5\"></a>"
      ]
    },
    {
      "cell_type": "markdown",
      "metadata": {
        "button": false,
        "deletable": true,
        "new_sheet": false,
        "run_control": {
          "read_only": false
        },
        "id": "2Zequ21PWHtE",
        "colab_type": "text"
      },
      "source": [
        "## 5. Explore Trending Venues\n",
        "> `https://api.foursquare.com/v2/venues/`**trending**`?client_id=`**CLIENT_ID**`&client_secret=`**CLIENT_SECRET**`&ll=`**LATITUDE**`,`**LONGITUDE**`&v=`**VERSION**"
      ]
    },
    {
      "cell_type": "markdown",
      "metadata": {
        "button": false,
        "deletable": true,
        "new_sheet": false,
        "run_control": {
          "read_only": false
        },
        "id": "1m_rZm4PWHtE",
        "colab_type": "text"
      },
      "source": [
        "#### Now, instead of simply exploring the area around Ecco, you are interested in knowing the venues that are trending at the time you are done with your lunch, meaning the places with the highest foot traffic. So let's do that and get the trending venues around Ecco."
      ]
    },
    {
      "cell_type": "code",
      "metadata": {
        "button": false,
        "deletable": true,
        "new_sheet": false,
        "run_control": {
          "read_only": false
        },
        "id": "D1pW6k_iWHtF",
        "colab_type": "code",
        "colab": {}
      },
      "source": [
        "# define URL\n",
        "url = 'https://api.foursquare.com/v2/venues/trending?client_id={}&client_secret={}&ll={},{}&v={}'.format(CLIENT_ID, CLIENT_SECRET, latitude, longitude, VERSION)\n",
        "\n",
        "# send GET request and get trending venues\n",
        "results = requests.get(url).json()\n",
        "results"
      ],
      "execution_count": 0,
      "outputs": []
    },
    {
      "cell_type": "markdown",
      "metadata": {
        "button": false,
        "deletable": true,
        "new_sheet": false,
        "run_control": {
          "read_only": false
        },
        "id": "09XBvhzyWHtH",
        "colab_type": "text"
      },
      "source": [
        "### Check if any venues are trending at this time"
      ]
    },
    {
      "cell_type": "code",
      "metadata": {
        "button": false,
        "collapsed": true,
        "deletable": true,
        "new_sheet": false,
        "run_control": {
          "read_only": false
        },
        "id": "NQEqpkA3WHtH",
        "colab_type": "code",
        "colab": {}
      },
      "source": [
        "if len(results['response']['venues']) == 0:\n",
        "    trending_venues_df = 'No trending venues are available at the moment!'\n",
        "    \n",
        "else:\n",
        "    trending_venues = results['response']['venues']\n",
        "    trending_venues_df = json_normalize(trending_venues)\n",
        "\n",
        "    # filter columns\n",
        "    columns_filtered = ['name', 'categories'] + ['location.distance', 'location.city', 'location.postalCode', 'location.state', 'location.country', 'location.lat', 'location.lng']\n",
        "    trending_venues_df = trending_venues_df.loc[:, columns_filtered]\n",
        "\n",
        "    # filter the category for each row\n",
        "    trending_venues_df['categories'] = trending_venues_df.apply(get_category_type, axis=1)"
      ],
      "execution_count": 0,
      "outputs": []
    },
    {
      "cell_type": "code",
      "metadata": {
        "button": false,
        "deletable": true,
        "new_sheet": false,
        "run_control": {
          "read_only": false
        },
        "id": "719DJPRxWHtJ",
        "colab_type": "code",
        "colab": {}
      },
      "source": [
        "# display trending venues\n",
        "trending_venues_df"
      ],
      "execution_count": 0,
      "outputs": []
    },
    {
      "cell_type": "markdown",
      "metadata": {
        "button": false,
        "deletable": true,
        "new_sheet": false,
        "run_control": {
          "read_only": false
        },
        "id": "0hbboHVNWHtL",
        "colab_type": "text"
      },
      "source": [
        "Now, depending on when you run the above code, you might get different venues since the venues with the highest foot traffic are fetched live. "
      ]
    },
    {
      "cell_type": "markdown",
      "metadata": {
        "button": false,
        "deletable": true,
        "new_sheet": false,
        "run_control": {
          "read_only": false
        },
        "id": "TVMGgrEgWHtL",
        "colab_type": "text"
      },
      "source": [
        "### Visualize trending venues"
      ]
    },
    {
      "cell_type": "code",
      "metadata": {
        "button": false,
        "deletable": true,
        "new_sheet": false,
        "run_control": {
          "read_only": false
        },
        "id": "BeNkDeyRWHtM",
        "colab_type": "code",
        "colab": {}
      },
      "source": [
        "if len(results['response']['venues']) == 0:\n",
        "    venues_map = 'Cannot generate visual as no trending venues are available at the moment!'\n",
        "\n",
        "else:\n",
        "    venues_map = folium.Map(location=[latitude, longitude], zoom_start=15) # generate map centred around Ecco\n",
        "\n",
        "\n",
        "    # add Ecco as a red circle mark\n",
        "    folium.features.CircleMarker(\n",
        "        [latitude, longitude],\n",
        "        radius=10,\n",
        "        popup='Ecco',\n",
        "        fill=True,\n",
        "        color='red',\n",
        "        fill_color='red',\n",
        "        fill_opacity=0.6\n",
        "    ).add_to(venues_map)\n",
        "\n",
        "\n",
        "    # add the trending venues as blue circle markers\n",
        "    for lat, lng, label in zip(trending_venues_df['location.lat'], trending_venues_df['location.lng'], trending_venues_df['name']):\n",
        "        folium.features.CircleMarker(\n",
        "            [lat, lng],\n",
        "            radius=5,\n",
        "            poup=label,\n",
        "            fill=True,\n",
        "            color='blue',\n",
        "            fill_color='blue',\n",
        "            fill_opacity=0.6\n",
        "        ).add_to(venues_map)"
      ],
      "execution_count": 0,
      "outputs": []
    },
    {
      "cell_type": "code",
      "metadata": {
        "button": false,
        "deletable": true,
        "new_sheet": false,
        "run_control": {
          "read_only": false
        },
        "scrolled": false,
        "id": "-RSRbcwbWHtO",
        "colab_type": "code",
        "colab": {}
      },
      "source": [
        "# display map\n",
        "venues_map"
      ],
      "execution_count": 0,
      "outputs": []
    },
    {
      "cell_type": "markdown",
      "metadata": {
        "button": false,
        "deletable": true,
        "new_sheet": false,
        "run_control": {
          "read_only": false
        },
        "id": "BxJcX7aBWHtQ",
        "colab_type": "text"
      },
      "source": [
        "<a id=\"item6\"></a>"
      ]
    },
    {
      "cell_type": "markdown",
      "metadata": {
        "button": false,
        "deletable": true,
        "new_sheet": false,
        "run_control": {
          "read_only": false
        },
        "id": "2Ij9ApGcWHtQ",
        "colab_type": "text"
      },
      "source": [
        "   "
      ]
    },
    {
      "cell_type": "markdown",
      "metadata": {
        "button": false,
        "deletable": true,
        "new_sheet": false,
        "run_control": {
          "read_only": false
        },
        "id": "-zanmxVgWHtQ",
        "colab_type": "text"
      },
      "source": [
        "### Thank you for completing this lab!\n",
        "\n",
        "This notebook was created by [Alex Aklson](https://www.linkedin.com/in/aklson/). I hope you found this lab interesting and educational. Feel free to contact me if you have any questions!"
      ]
    },
    {
      "cell_type": "markdown",
      "metadata": {
        "button": false,
        "deletable": true,
        "new_sheet": false,
        "run_control": {
          "read_only": false
        },
        "id": "HHMMA2DvWHtR",
        "colab_type": "text"
      },
      "source": [
        "This notebook is part of a course on **Coursera** called *Applied Data Science Capstone*. If you accessed this notebook outside the course, you can take this course online by clicking [here](http://cocl.us/DP0701EN_Coursera_Week2_LAB1)."
      ]
    },
    {
      "cell_type": "markdown",
      "metadata": {
        "button": false,
        "deletable": true,
        "new_sheet": false,
        "run_control": {
          "read_only": false
        },
        "id": "3GKFHABHWHtS",
        "colab_type": "text"
      },
      "source": [
        "<hr>\n",
        "Copyright &copy; 2018 [Cognitive Class](https://cognitiveclass.ai/?utm_source=bducopyrightlink&utm_medium=dswb&utm_campaign=bdu). This notebook and its source code are released under the terms of the [MIT License](https://bigdatauniversity.com/mit-license/)."
      ]
    }
  ]
}