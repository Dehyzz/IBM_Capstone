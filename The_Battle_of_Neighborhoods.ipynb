{
  "nbformat": 4,
  "nbformat_minor": 0,
  "metadata": {
    "colab": {
      "name": "The Battle of Neighborhoods.ipynb",
      "provenance": [],
      "authorship_tag": "ABX9TyN3k3nR2J/Xterpf9AToBhu",
      "include_colab_link": true
    },
    "kernelspec": {
      "name": "python3",
      "display_name": "Python 3"
    }
  },
  "cells": [
    {
      "cell_type": "markdown",
      "metadata": {
        "id": "view-in-github",
        "colab_type": "text"
      },
      "source": [
        "<a href=\"https://colab.research.google.com/github/Dehyzz/IBM_Capstone/blob/master/The_Battle_of_Neighborhoods.ipynb\" target=\"_parent\"><img src=\"https://colab.research.google.com/assets/colab-badge.svg\" alt=\"Open In Colab\"/></a>"
      ]
    },
    {
      "cell_type": "code",
      "metadata": {
        "id": "JoC31o5gWGA6",
        "colab_type": "code",
        "colab": {}
      },
      "source": [
        ""
      ],
      "execution_count": 0,
      "outputs": []
    },
    {
      "cell_type": "code",
      "metadata": {
        "id": "yfXauPfTZRBg",
        "colab_type": "code",
        "colab": {}
      },
      "source": [
        ""
      ],
      "execution_count": 0,
      "outputs": []
    },
    {
      "cell_type": "markdown",
      "metadata": {
        "id": "GFsGkpElWQXf",
        "colab_type": "text"
      },
      "source": [
        "# Capstone Project - The Battle of Neighborhoods (Week 1)\n",
        "### 1. Description of the problem \n",
        "It is always a big challenge to choose right location for new property, especially a hotel. As a D. Trump being a luxury property magnate once said \"When considering to build new property there is three major factors that you always have to consider:\n",
        "1. Location\n",
        "2. Location\n",
        "3. Location\n",
        "\n",
        "This data science project is aiming to solve this issue employing machine learning and Foursquare location information to choose the best location for new hotel in $$$ price category in Manhattan, NY.\n",
        "\n",
        "As a new hotel quality factor we will be using prediction of Rating value on Foursquare. Machine learning algorithm will be given factors that is known for impacting location quality. Such as proximity to restaurants, museums, parks, monuments, shops and other points of interest (POI).\n",
        "\n",
        "### 2. Description of the data and how it will be used to solve the problem\n",
        "\n",
        "\n",
        "\n",
        "\n",
        "\n"
      ]
    }
  ]
}