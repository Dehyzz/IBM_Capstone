{
  "nbformat": 4,
  "nbformat_minor": 0,
  "metadata": {
    "colab": {
      "name": "The Battle of Neighborhoods.ipynb",
      "provenance": [],
      "collapsed_sections": [],
      "authorship_tag": "ABX9TyMk0wX5Elfp6eB9IWUI4uU2",
      "include_colab_link": true
    },
    "kernelspec": {
      "name": "python3",
      "display_name": "Python 3"
    }
  },
  "cells": [
    {
      "cell_type": "markdown",
      "metadata": {
        "id": "view-in-github",
        "colab_type": "text"
      },
      "source": [
        "<a href=\"https://colab.research.google.com/github/Dehyzz/IBM_Capstone/blob/master/The_Battle_of_Neighborhoods.ipynb\" target=\"_parent\"><img src=\"https://colab.research.google.com/assets/colab-badge.svg\" alt=\"Open In Colab\"/></a>"
      ]
    },
    {
      "cell_type": "code",
      "metadata": {
        "id": "yfXauPfTZRBg",
        "colab_type": "code",
        "colab": {}
      },
      "source": [
        ""
      ],
      "execution_count": 0,
      "outputs": []
    },
    {
      "cell_type": "markdown",
      "metadata": {
        "id": "my8Yf1-S3Eu7",
        "colab_type": "text"
      },
      "source": [
        "# The Capstone Project - The Battle of Neighborhoods"
      ]
    },
    {
      "cell_type": "markdown",
      "metadata": {
        "id": "GFsGkpElWQXf",
        "colab_type": "text"
      },
      "source": [
        "## Week 1: Report beginning\n",
        "\n",
        "\n",
        "---\n",
        "\n",
        "\n",
        "### 1. Description of the problem \n",
        "It is always a big challenge to choose right location for new property, especially a hotel. As a D. Trump being a luxury property magnate once said \"When considering to build new property there is three major factors that you always have to consider: Location, Location and of course Location!\"\n",
        "\n",
        "This data science project is aiming to solve the challange of finding the best location for new hotel in $$$ price category in Manhattan, NY. To do so we will apply machine learning algorythms on Foursquare location data.\n",
        "\n",
        "As a new hotel quality factor we will be using prediction of Rating value on Foursquare. Machine learning algorithm will be given factors that is known for impacting location quality. Such as proximity to restaurants, museums, parks, monuments, shops and other points of interest (POI).\n",
        "\n",
        "---\n",
        "\n",
        "### 2. Description of the data and how it will be used to solve the problem\n",
        "\n",
        "Provider of Location Data will be Foursquare.\n",
        "\n",
        "1. Will be used Foursquare API call \"search/ + keyword=hotel\" to find all existing hotels in Manhattan. Than filtered only hotels with price cathegory $$$. Saving to Pandas Dataframe.\n",
        "\n",
        "2. For every hotel in Dataframe the rating will be found, by passing to Foursquare query with by \"venue/ + id\" API call) (for every hotel in Dataframe).\n",
        "\n",
        "3. Having all the hotels we add (by \"explore/\" API call) nearby POI in selected categories:\n",
        "\n",
        "    *   Restaurants\n",
        "    *   Museums\n",
        "    *   Parks\n",
        "    *   Monuments\n",
        "    *   Shops\n",
        "    *   List item\n",
        "\n",
        "4. Then we filter out ():\n",
        "    *   Restaurants (rating>4, price_category>$$)\n",
        "    *   Shops (price_category>$$)\n",
        "\n",
        "5. Then we will merge all the data into Dataframe (one hotel = one line) and make a prediction for every Manhattan postcode prediction of rating for hypotetical hotel build in this location.\n",
        "\n",
        "---\n",
        "\n",
        "\n",
        "\n",
        "\n",
        "\n",
        "\n"
      ]
    },
    {
      "cell_type": "markdown",
      "metadata": {
        "id": "Ha-fxcCfxcjk",
        "colab_type": "text"
      },
      "source": [
        "## Week 2:\n",
        "\n",
        "### 1. Report\n",
        "* Introduction where you discuss the business problem and who would be interested in this project.\n",
        "\n",
        "* Data where you describe the data that will be used to solve the problem and the source of the data.\n",
        "\n",
        "* Methodology section which represents the main component of the report where you discuss and describe any exploratory data analysis that you did, any inferential statistical testing that you performed, if any, and what machine learnings were used and why.\n",
        "\n",
        "* Results section where you discuss the results.\n",
        "* Discussion section where you discuss any observations you noted and any recommendations you can make based on the results.\n",
        "\n",
        "* Conclusion section where you conclude the report.\n",
        "\n",
        "### 2. A link to your Notebook\n",
        "\n",
        "### 3. Presentation or blogpost\n",
        "\n",
        "\n",
        "### Example\n",
        "\n",
        "* Report: https://cocl.us/coursera_capstone_report\n",
        "* Notebook: https://cocl.us/coursera_capstone_notebook\n",
        "* Presentation: https://cocl.us/coursera_capstone_presentation\n",
        "* Blogpost: https://cocl.us/coursera_capstone_blogpost"
      ]
    },
    {
      "cell_type": "code",
      "metadata": {
        "id": "_wlOGj70zbao",
        "colab_type": "code",
        "colab": {}
      },
      "source": [
        ""
      ],
      "execution_count": 0,
      "outputs": []
    },
    {
      "cell_type": "code",
      "metadata": {
        "id": "r3eRzWLszcOC",
        "colab_type": "code",
        "colab": {}
      },
      "source": [
        ""
      ],
      "execution_count": 0,
      "outputs": []
    }
  ]
}